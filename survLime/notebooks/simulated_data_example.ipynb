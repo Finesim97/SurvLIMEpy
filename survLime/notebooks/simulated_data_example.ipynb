{
 "cells": [
  {
   "cell_type": "code",
   "execution_count": null,
   "id": "49eb31d5-f9c3-4a5a-89b8-c543b8f9e4bd",
   "metadata": {},
   "outputs": [],
   "source": [
    "%load_ext autoreload\n",
    "%autoreload \n",
    "import os\n",
    "os.chdir(os.path.dirname((os.path.dirname(os.getcwd()))))\n",
    "from functools import partial\n",
    "import cvxpy as cp\n",
    "import numpy as np\n",
    "from sksurv.linear_model import CoxPHSurvivalAnalysis\n",
    "from sklearn.model_selection import train_test_split\n",
    "from survLime.datasets.load_datasets import RandomSurvivalData\n",
    "from survLime import survlime_tabular\n",
    "from survLime.scripts.experiment_1 import create_clusters\n",
    "from survLime.utils.generic_utils import compare_survival_times\n",
    "np.random.seed(42)"
   ]
  },
  {
   "cell_type": "code",
   "execution_count": null,
   "id": "0628d953",
   "metadata": {},
   "outputs": [],
   "source": [
    "# Create clusters can be found in scripts/experiment_1\n",
    "cluster_0, cluster_1 = create_clusters()\n",
    "x_train_1, x_test_1, y_train_1, y_test_1 = train_test_split(cluster_0[0],\n",
    "                                                            cluster_0[1], test_size=0.1)\n",
    "times = [x[1] for x in y_train_1]\n",
    "times_to_fill = list(set(times))\n",
    "times_to_fill.sort() \n",
    "m = len(times_to_fill)"
   ]
  },
  {
   "cell_type": "code",
   "execution_count": null,
   "id": "00d68631-9152-46ec-adb7-0e7133416f9e",
   "metadata": {},
   "outputs": [],
   "source": [
    "# Train bb model\n",
    "columns =[f'feat_{i}' for i in range(x_train_1.shape[1])]\n",
    "model = CoxPHSurvivalAnalysis(alpha=0.0001)\n",
    "model.fit(x_train_1, y_train_1)\n",
    "model.feature_names_in_ = columns # This is needed in order to compare survival times later\n",
    "\n",
    "# Obtain a test point to use for prediction\n",
    "test_point = x_test_1[0]"
   ]
  },
  {
   "cell_type": "code",
   "execution_count": null,
   "id": "26fc2eb2-b576-4564-ae1c-8c8facaef2ed",
   "metadata": {},
   "outputs": [],
   "source": [
    "# Wrapper for predict function\n",
    "predict_chf = partial(model.predict_cumulative_hazard_function, return_array=True)"
   ]
  },
  {
   "cell_type": "code",
   "execution_count": null,
   "id": "716ed11b-5b5e-4170-ac36-03b73b086aa7",
   "metadata": {},
   "outputs": [],
   "source": [
    "# Baseline cumulative hazard \n",
    "H0 = model.cum_baseline_hazard_.y.reshape(m, 1)"
   ]
  },
  {
   "cell_type": "code",
   "execution_count": null,
   "id": "bbd456a5-0fa1-4393-b5d9-04d10715dae7",
   "metadata": {},
   "outputs": [],
   "source": [
    "explainer = survlime_tabular.LimeTabularExplainer(x_train_1,\n",
    "                                                  y_train_1,\n",
    "                                                  feature_names=columns,\n",
    "                                                  H0=H0,\n",
    "                                                  verbose=True,\n",
    "                                                  discretize_continuous=False)\n",
    "num_neighbours = 1000\n",
    "# From here we are only using log_correction, Ho_t_ and inverse \n",
    "H, weights, log_correction, scaled_data, b, opt_value = explainer.explain_instance(test_point,predict_chf,\n",
    "                                                                                   verbose=True,\n",
    "                                                                                   num_samples = num_neighbours)"
   ]
  },
  {
   "cell_type": "code",
   "execution_count": null,
   "id": "299c9bb8-4851-4d3b-b986-60e43de48b90",
   "metadata": {},
   "outputs": [],
   "source": [
    "print(opt_value)\n",
    "print('--------------------')\n",
    "print(b.T)\n",
    "print('--------------------')\n",
    "print(model.coef_)"
   ]
  },
  {
   "cell_type": "code",
   "execution_count": null,
   "id": "a045bf8c-201e-43f0-8257-782b2f39bbc3",
   "metadata": {},
   "outputs": [],
   "source": [
    "# Coefficient coppied from survLime/scripts/experiment_1.create_clusters\n",
    "coefficients = [10**(-6), 0.1,  -0.15, 10**(-6), 10**(-6)]\n",
    "values = [x[0] for x in b]\n",
    "print(coefficients)\n",
    "print(values)\n",
    "print(model.coef_)\n",
    "compare_survival_times(model, values, x_train_1, y_train_1, x_test_1, true_coef=coefficients)"
   ]
  }
 ],
 "metadata": {
  "kernelspec": {
   "display_name": ".ven_survLIME",
   "language": "python",
   "name": ".ven_survlime"
  },
  "language_info": {
   "codemirror_mode": {
    "name": "ipython",
    "version": 3
   },
   "file_extension": ".py",
   "mimetype": "text/x-python",
   "name": "python",
   "nbconvert_exporter": "python",
   "pygments_lexer": "ipython3",
   "version": "3.9.7"
  }
 },
 "nbformat": 4,
 "nbformat_minor": 5
}
