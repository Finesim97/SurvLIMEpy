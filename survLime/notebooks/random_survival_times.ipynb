{
 "cells": [
  {
   "cell_type": "code",
   "execution_count": null,
   "id": "7d8f45a8",
   "metadata": {},
   "outputs": [],
   "source": [
    "import numpy as np\n",
    "import pandas as pd\n",
    "import matplotlib.pyplot as plt\n",
    "from sksurv.linear_model import CoxPHSurvivalAnalysis\n",
    "from survLime.datasets.load_datasets import RandomSurvivalData"
   ]
  },
  {
   "cell_type": "code",
   "execution_count": null,
   "id": "b4148060",
   "metadata": {},
   "outputs": [],
   "source": [
    "center = [10, 10]\n",
    "radius = 5\n",
    "coefficients = [-0.1, 0.5]\n",
    "prob_event = 0.9\n",
    "lambda_weibull = 10**(-6)\n",
    "v_weibull = 2\n",
    "num_points = 1000\n",
    "rds = RandomSurvivalData(center, radius, coefficients, prob_event, lambda_weibull, v_weibull, random_seed=23)\n",
    "X, T, delta = rds.random_survival_data(num_points)"
   ]
  },
  {
   "cell_type": "code",
   "execution_count": null,
   "id": "9d0ce4df",
   "metadata": {},
   "outputs": [],
   "source": [
    "print(X)"
   ]
  },
  {
   "cell_type": "code",
   "execution_count": null,
   "id": "3665bec0",
   "metadata": {},
   "outputs": [],
   "source": [
    "plt.scatter(X[:, 0], X[:, 1])"
   ]
  },
  {
   "cell_type": "code",
   "execution_count": null,
   "id": "c5cbe781",
   "metadata": {},
   "outputs": [],
   "source": [
    "z = [(d, t) for d, t in zip(delta, T)]\n",
    "y = np.array(z, dtype=[('delta', np.bool_), ('time_to_event', np.float32)])\n",
    "cox_model = CoxPHSurvivalAnalysis(alpha=1, n_iter=100000)\n",
    "cox_model = cox_model.fit(X, y)\n",
    "print(cox_model.coef_)"
   ]
  }
 ],
 "metadata": {
  "kernelspec": {
   "display_name": ".venv_survLIME",
   "language": "python",
   "name": ".venv_survlime"
  },
  "language_info": {
   "codemirror_mode": {
    "name": "ipython",
    "version": 3
   },
   "file_extension": ".py",
   "mimetype": "text/x-python",
   "name": "python",
   "nbconvert_exporter": "python",
   "pygments_lexer": "ipython3",
   "version": "3.9.7"
  }
 },
 "nbformat": 4,
 "nbformat_minor": 5
}
