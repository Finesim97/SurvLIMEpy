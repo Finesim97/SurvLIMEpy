{
 "cells": [
  {
   "cell_type": "code",
   "execution_count": null,
   "id": "7d8f45a8",
   "metadata": {},
   "outputs": [],
   "source": [
    "import numpy as np\n",
    "import pandas as pd\n",
    "from sksurv.linear_model import CoxPHSurvivalAnalysis"
   ]
  },
  {
   "cell_type": "code",
   "execution_count": null,
   "id": "79353e4a",
   "metadata": {},
   "outputs": [],
   "source": [
    "n = 1000\n",
    "x = np.random.uniform(size=(n, 1))\n",
    "u = np.random.uniform(size=n)\n",
    "b = 5\n",
    "lamba_val = 10**(-5)\n",
    "v = 2\n",
    "num = -np.log(u)\n",
    "den = lamba_val*np.exp(b*x[:, 0])\n",
    "T = (num/den)**(1/v)\n",
    "T = np.where(T>2000, 2000, T)\n",
    "delta = np.where(np.random.uniform(size=n)<=0.9, True, False)\n",
    "z = [(d, t) for d, t in zip(delta, T)]\n",
    "y = np.array(z, dtype=[('delta', np.bool_), ('time_to_event', np.float32)])\n",
    "np.mean(delta)"
   ]
  },
  {
   "cell_type": "code",
   "execution_count": null,
   "id": "9f57d01e",
   "metadata": {},
   "outputs": [],
   "source": [
    "print(num[:2])\n",
    "print(den[:2])\n",
    "print(T[:2])\n",
    "print((num[:2]/den[:2])**(1/v))"
   ]
  },
  {
   "cell_type": "code",
   "execution_count": null,
   "id": "a7a1ec37",
   "metadata": {},
   "outputs": [],
   "source": [
    "print(x.shape)\n",
    "print(T.shape)\n",
    "print(y.shape)"
   ]
  },
  {
   "cell_type": "code",
   "execution_count": null,
   "id": "834533f5",
   "metadata": {},
   "outputs": [],
   "source": [
    "cox_model = CoxPHSurvivalAnalysis(alpha=1, n_iter=100000)\n",
    "cox_model = cox_model.fit(x, y)"
   ]
  },
  {
   "cell_type": "code",
   "execution_count": null,
   "id": "eaebc086",
   "metadata": {},
   "outputs": [],
   "source": [
    "cox_model.coef_[0]"
   ]
  }
 ],
 "metadata": {
  "kernelspec": {
   "display_name": ".venv_survLIME",
   "language": "python",
   "name": ".venv_survlime"
  },
  "language_info": {
   "codemirror_mode": {
    "name": "ipython",
    "version": 3
   },
   "file_extension": ".py",
   "mimetype": "text/x-python",
   "name": "python",
   "nbconvert_exporter": "python",
   "pygments_lexer": "ipython3",
   "version": "3.9.7"
  }
 },
 "nbformat": 4,
 "nbformat_minor": 5
}
