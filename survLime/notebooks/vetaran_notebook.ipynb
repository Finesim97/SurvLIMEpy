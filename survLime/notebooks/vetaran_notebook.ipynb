{
 "cells": [
  {
   "cell_type": "code",
   "execution_count": 31,
   "id": "da5c81f3-09aa-4502-8281-03425a66e4fb",
   "metadata": {},
   "outputs": [
    {
     "name": "stdout",
     "output_type": "stream",
     "text": [
      "The autoreload extension is already loaded. To reload it, use:\n",
      "  %reload_ext autoreload\n"
     ]
    },
    {
     "name": "stderr",
     "output_type": "stream",
     "text": [
      "/home/carlos.hernandez/dl/lib/python3.8/site-packages/pandas/core/series.py:4530: SettingWithCopyWarning: \n",
      "A value is trying to be set on a copy of a slice from a DataFrame\n",
      "\n",
      "See the caveats in the documentation: https://pandas.pydata.org/pandas-docs/stable/user_guide/indexing.html#returning-a-view-versus-a-copy\n",
      "  return super().fillna(\n"
     ]
    }
   ],
   "source": [
    "%load_ext autoreload\n",
    "%autoreload 2\n",
    "\n",
    "\n",
    "import numpy as np\n",
    "import pandas as pd\n",
    "\n",
    "from sksurv.util import Surv\n",
    "from sksurv.linear_model import CoxPHSurvivalAnalysis\n",
    "from sksurv.ensemble import RandomSurvivalForest\n",
    "from sklearn.model_selection import train_test_split\n",
    "from sklearn.preprocessing import OneHotEncoder, StandardScaler\n",
    "\n",
    "\n",
    "# Our very own survLime!\n",
    "import survLime\n",
    "from survLime.utils.generic_utils import fill_matrix_with_total_times\n",
    "from survLime.datasets.load_datasets import Loader \n",
    "from survLime import survlime_tabular\n",
    "\n",
    "\n",
    "loader = Loader(dataset_name='veterans')\n",
    "x,events, times = loader.load_data()"
   ]
  },
  {
   "cell_type": "code",
   "execution_count": 32,
   "id": "413e1285-2bdf-43a5-9f37-2fb1ba572799",
   "metadata": {},
   "outputs": [],
   "source": [
    "train, val, test = loader.preprocess_datasets(x, events, times)\n",
    "events_train = [x[0] for x in train[1]]\n",
    "times_train  = [x[1] for x in train[1]]\n",
    "\n",
    "events_val = [x[0] for x in val[1]]\n",
    "times_val  = [x[1] for x in val[1]]\n",
    "\n",
    "events_test = [x[0] for x in test[1]]\n",
    "times_test  = [x[1] for x in test[1]]"
   ]
  },
  {
   "cell_type": "code",
   "execution_count": 40,
   "id": "abea3211-6b1d-45a0-93a7-0abb7885a2cb",
   "metadata": {},
   "outputs": [
    {
     "data": {
      "text/plain": [
       "28"
      ]
     },
     "execution_count": 40,
     "metadata": {},
     "output_type": "execute_result"
    }
   ],
   "source": [
    "len(events_train)\n",
    "len(times_test)"
   ]
  },
  {
   "cell_type": "code",
   "execution_count": 33,
   "id": "71507356-c616-4912-b6e6-b9d6c8672bd6",
   "metadata": {},
   "outputs": [
    {
     "data": {
      "text/plain": [
       "0.7154696132596685"
      ]
     },
     "execution_count": 33,
     "metadata": {},
     "output_type": "execute_result"
    }
   ],
   "source": [
    "model = CoxPHSurvivalAnalysis(alpha=0.0001)\n",
    "#model = RandomSurvivalForest()\n",
    "model.fit(train[0], train[1])\n",
    "model.score(test[0], test[1])"
   ]
  },
  {
   "cell_type": "code",
   "execution_count": null,
   "id": "95486c0a-044c-433a-b333-182fba300aba",
   "metadata": {},
   "outputs": [],
   "source": []
  },
  {
   "cell_type": "markdown",
   "id": "62900c02-0dae-4a79-86a4-54f35d184c9b",
   "metadata": {},
   "source": [
    "## Code trials to have it all on the explainer\n"
   ]
  },
  {
   "cell_type": "code",
   "execution_count": null,
   "id": "852a7ea1-565b-4814-98de-7760c8b889eb",
   "metadata": {},
   "outputs": [],
   "source": []
  },
  {
   "cell_type": "code",
   "execution_count": 26,
   "id": "b1e6d170-4e69-4649-8440-a6965b4e2808",
   "metadata": {},
   "outputs": [
    {
     "name": "stderr",
     "output_type": "stream",
     "text": [
      "  0%|                                                                                                                                                                                        | 0/34 [00:00<?, ?it/s]/home/carlos.hernandez/dl/lib/python3.8/site-packages/sklearn/base.py:450: UserWarning: X does not have valid feature names, but CoxPHSurvivalAnalysis was fitted with feature names\n",
      "  warnings.warn(\n",
      "  3%|█████▏                                                                                                                                                                          | 1/34 [00:48<26:51, 48.84s/it]"
     ]
    },
    {
     "name": "stdout",
     "output_type": "stream",
     "text": [
      "time solving the problem 47.86941253498662\n"
     ]
    },
    {
     "name": "stderr",
     "output_type": "stream",
     "text": [
      "/home/carlos.hernandez/dl/lib/python3.8/site-packages/sklearn/base.py:450: UserWarning: X does not have valid feature names, but CoxPHSurvivalAnalysis was fitted with feature names\n",
      "  warnings.warn(\n",
      "  6%|██████████▎                                                                                                                                                                     | 2/34 [01:33<24:37, 46.16s/it]"
     ]
    },
    {
     "name": "stdout",
     "output_type": "stream",
     "text": [
      "time solving the problem 43.142209356999956\n"
     ]
    },
    {
     "name": "stderr",
     "output_type": "stream",
     "text": [
      "/home/carlos.hernandez/dl/lib/python3.8/site-packages/sklearn/base.py:450: UserWarning: X does not have valid feature names, but CoxPHSurvivalAnalysis was fitted with feature names\n",
      "  warnings.warn(\n",
      "  9%|███████████████▌                                                                                                                                                                | 3/34 [02:22<24:39, 47.72s/it]"
     ]
    },
    {
     "name": "stdout",
     "output_type": "stream",
     "text": [
      "time solving the problem 48.407716125948355\n"
     ]
    },
    {
     "name": "stderr",
     "output_type": "stream",
     "text": [
      "/home/carlos.hernandez/dl/lib/python3.8/site-packages/sklearn/base.py:450: UserWarning: X does not have valid feature names, but CoxPHSurvivalAnalysis was fitted with feature names\n",
      "  warnings.warn(\n",
      " 12%|████████████████████▋                                                                                                                                                           | 4/34 [03:09<23:46, 47.55s/it]"
     ]
    },
    {
     "name": "stdout",
     "output_type": "stream",
     "text": [
      "time solving the problem 46.125701363082044\n"
     ]
    },
    {
     "name": "stderr",
     "output_type": "stream",
     "text": [
      "/home/carlos.hernandez/dl/lib/python3.8/site-packages/sklearn/base.py:450: UserWarning: X does not have valid feature names, but CoxPHSurvivalAnalysis was fitted with feature names\n",
      "  warnings.warn(\n",
      " 15%|█████████████████████████▉                                                                                                                                                      | 5/34 [03:54<22:31, 46.60s/it]"
     ]
    },
    {
     "name": "stdout",
     "output_type": "stream",
     "text": [
      "time solving the problem 43.77078059397172\n"
     ]
    },
    {
     "name": "stderr",
     "output_type": "stream",
     "text": [
      "/home/carlos.hernandez/dl/lib/python3.8/site-packages/sklearn/base.py:450: UserWarning: X does not have valid feature names, but CoxPHSurvivalAnalysis was fitted with feature names\n",
      "  warnings.warn(\n",
      " 18%|███████████████████████████████                                                                                                                                                 | 6/34 [04:43<22:01, 47.19s/it]"
     ]
    },
    {
     "name": "stdout",
     "output_type": "stream",
     "text": [
      "time solving the problem 47.153446353040636\n"
     ]
    },
    {
     "name": "stderr",
     "output_type": "stream",
     "text": [
      "/home/carlos.hernandez/dl/lib/python3.8/site-packages/sklearn/base.py:450: UserWarning: X does not have valid feature names, but CoxPHSurvivalAnalysis was fitted with feature names\n",
      "  warnings.warn(\n",
      " 21%|████████████████████████████████████▏                                                                                                                                           | 7/34 [05:29<21:09, 47.02s/it]"
     ]
    },
    {
     "name": "stdout",
     "output_type": "stream",
     "text": [
      "time solving the problem 45.53046307899058\n"
     ]
    },
    {
     "name": "stderr",
     "output_type": "stream",
     "text": [
      "/home/carlos.hernandez/dl/lib/python3.8/site-packages/sklearn/base.py:450: UserWarning: X does not have valid feature names, but CoxPHSurvivalAnalysis was fitted with feature names\n",
      "  warnings.warn(\n",
      " 24%|█████████████████████████████████████████▍                                                                                                                                      | 8/34 [06:16<20:20, 46.96s/it]"
     ]
    },
    {
     "name": "stdout",
     "output_type": "stream",
     "text": [
      "time solving the problem 45.65152034594212\n"
     ]
    },
    {
     "name": "stderr",
     "output_type": "stream",
     "text": [
      "/home/carlos.hernandez/dl/lib/python3.8/site-packages/sklearn/base.py:450: UserWarning: X does not have valid feature names, but CoxPHSurvivalAnalysis was fitted with feature names\n",
      "  warnings.warn(\n",
      " 26%|██████████████████████████████████████████████▌                                                                                                                                 | 9/34 [07:03<19:32, 46.90s/it]"
     ]
    },
    {
     "name": "stdout",
     "output_type": "stream",
     "text": [
      "time solving the problem 45.58906811696943\n"
     ]
    },
    {
     "name": "stderr",
     "output_type": "stream",
     "text": [
      "/home/carlos.hernandez/dl/lib/python3.8/site-packages/sklearn/base.py:450: UserWarning: X does not have valid feature names, but CoxPHSurvivalAnalysis was fitted with feature names\n",
      "  warnings.warn(\n",
      " 29%|███████████████████████████████████████████████████▍                                                                                                                           | 10/34 [07:49<18:38, 46.62s/it]"
     ]
    },
    {
     "name": "stdout",
     "output_type": "stream",
     "text": [
      "time solving the problem 44.83017311897129\n"
     ]
    },
    {
     "name": "stderr",
     "output_type": "stream",
     "text": [
      "/home/carlos.hernandez/dl/lib/python3.8/site-packages/sklearn/base.py:450: UserWarning: X does not have valid feature names, but CoxPHSurvivalAnalysis was fitted with feature names\n",
      "  warnings.warn(\n",
      " 32%|████████████████████████████████████████████████████████▌                                                                                                                      | 11/34 [08:39<18:13, 47.53s/it]"
     ]
    },
    {
     "name": "stdout",
     "output_type": "stream",
     "text": [
      "time solving the problem 48.40382867900189\n"
     ]
    },
    {
     "name": "stderr",
     "output_type": "stream",
     "text": [
      "/home/carlos.hernandez/dl/lib/python3.8/site-packages/sklearn/base.py:450: UserWarning: X does not have valid feature names, but CoxPHSurvivalAnalysis was fitted with feature names\n",
      "  warnings.warn(\n",
      " 35%|█████████████████████████████████████████████████████████████▊                                                                                                                 | 12/34 [09:25<17:20, 47.28s/it]"
     ]
    },
    {
     "name": "stdout",
     "output_type": "stream",
     "text": [
      "time solving the problem 45.52970330696553\n"
     ]
    },
    {
     "name": "stderr",
     "output_type": "stream",
     "text": [
      "/home/carlos.hernandez/dl/lib/python3.8/site-packages/sklearn/base.py:450: UserWarning: X does not have valid feature names, but CoxPHSurvivalAnalysis was fitted with feature names\n",
      "  warnings.warn(\n",
      " 38%|██████████████████████████████████████████████████████████████████▉                                                                                                            | 13/34 [10:14<16:44, 47.84s/it]"
     ]
    },
    {
     "name": "stdout",
     "output_type": "stream",
     "text": [
      "time solving the problem 47.967825888074\n"
     ]
    },
    {
     "name": "stderr",
     "output_type": "stream",
     "text": [
      "/home/carlos.hernandez/dl/lib/python3.8/site-packages/sklearn/base.py:450: UserWarning: X does not have valid feature names, but CoxPHSurvivalAnalysis was fitted with feature names\n",
      "  warnings.warn(\n",
      " 41%|████████████████████████████████████████████████████████████████████████                                                                                                       | 14/34 [11:00<15:40, 47.03s/it]"
     ]
    },
    {
     "name": "stdout",
     "output_type": "stream",
     "text": [
      "time solving the problem 43.97505598096177\n"
     ]
    },
    {
     "name": "stderr",
     "output_type": "stream",
     "text": [
      "/home/carlos.hernandez/dl/lib/python3.8/site-packages/sklearn/base.py:450: UserWarning: X does not have valid feature names, but CoxPHSurvivalAnalysis was fitted with feature names\n",
      "  warnings.warn(\n",
      " 44%|█████████████████████████████████████████████████████████████████████████████▏                                                                                                 | 15/34 [11:49<15:06, 47.71s/it]"
     ]
    },
    {
     "name": "stdout",
     "output_type": "stream",
     "text": [
      "time solving the problem 48.121749173034914\n"
     ]
    },
    {
     "name": "stderr",
     "output_type": "stream",
     "text": [
      "/home/carlos.hernandez/dl/lib/python3.8/site-packages/sklearn/base.py:450: UserWarning: X does not have valid feature names, but CoxPHSurvivalAnalysis was fitted with feature names\n",
      "  warnings.warn(\n",
      " 47%|██████████████████████████████████████████████████████████████████████████████████▎                                                                                            | 16/34 [12:36<14:13, 47.41s/it]"
     ]
    },
    {
     "name": "stdout",
     "output_type": "stream",
     "text": [
      "time solving the problem 45.53375189809594\n"
     ]
    },
    {
     "name": "stderr",
     "output_type": "stream",
     "text": [
      "/home/carlos.hernandez/dl/lib/python3.8/site-packages/sklearn/base.py:450: UserWarning: X does not have valid feature names, but CoxPHSurvivalAnalysis was fitted with feature names\n",
      "  warnings.warn(\n",
      " 50%|███████████████████████████████████████████████████████████████████████████████████████▌                                                                                       | 17/34 [13:22<13:21, 47.15s/it]"
     ]
    },
    {
     "name": "stdout",
     "output_type": "stream",
     "text": [
      "time solving the problem 45.346816389937885\n"
     ]
    },
    {
     "name": "stderr",
     "output_type": "stream",
     "text": [
      "/home/carlos.hernandez/dl/lib/python3.8/site-packages/sklearn/base.py:450: UserWarning: X does not have valid feature names, but CoxPHSurvivalAnalysis was fitted with feature names\n",
      "  warnings.warn(\n",
      " 53%|████████████████████████████████████████████████████████████████████████████████████████████▋                                                                                  | 18/34 [14:11<12:40, 47.54s/it]"
     ]
    },
    {
     "name": "stdout",
     "output_type": "stream",
     "text": [
      "time solving the problem 47.2889560990734\n"
     ]
    },
    {
     "name": "stderr",
     "output_type": "stream",
     "text": [
      "/home/carlos.hernandez/dl/lib/python3.8/site-packages/sklearn/base.py:450: UserWarning: X does not have valid feature names, but CoxPHSurvivalAnalysis was fitted with feature names\n",
      "  warnings.warn(\n",
      " 56%|█████████████████████████████████████████████████████████████████████████████████████████████████▊                                                                             | 19/34 [14:59<11:56, 47.75s/it]"
     ]
    },
    {
     "name": "stdout",
     "output_type": "stream",
     "text": [
      "time solving the problem 47.04509109200444\n"
     ]
    },
    {
     "name": "stderr",
     "output_type": "stream",
     "text": [
      "/home/carlos.hernandez/dl/lib/python3.8/site-packages/sklearn/base.py:450: UserWarning: X does not have valid feature names, but CoxPHSurvivalAnalysis was fitted with feature names\n",
      "  warnings.warn(\n",
      " 59%|██████████████████████████████████████████████████████████████████████████████████████████████████████▉                                                                        | 20/34 [15:45<11:03, 47.41s/it]"
     ]
    },
    {
     "name": "stdout",
     "output_type": "stream",
     "text": [
      "time solving the problem 45.433308792999014\n"
     ]
    },
    {
     "name": "stderr",
     "output_type": "stream",
     "text": [
      "/home/carlos.hernandez/dl/lib/python3.8/site-packages/sklearn/base.py:450: UserWarning: X does not have valid feature names, but CoxPHSurvivalAnalysis was fitted with feature names\n",
      "  warnings.warn(\n",
      " 62%|████████████████████████████████████████████████████████████████████████████████████████████████████████████                                                                   | 21/34 [16:34<10:22, 47.86s/it]"
     ]
    },
    {
     "name": "stdout",
     "output_type": "stream",
     "text": [
      "time solving the problem 47.73710829997435\n"
     ]
    },
    {
     "name": "stderr",
     "output_type": "stream",
     "text": [
      "/home/carlos.hernandez/dl/lib/python3.8/site-packages/sklearn/base.py:450: UserWarning: X does not have valid feature names, but CoxPHSurvivalAnalysis was fitted with feature names\n",
      "  warnings.warn(\n",
      " 65%|█████████████████████████████████████████████████████████████████████████████████████████████████████████████████▏                                                             | 22/34 [17:21<09:30, 47.55s/it]"
     ]
    },
    {
     "name": "stdout",
     "output_type": "stream",
     "text": [
      "time solving the problem 45.63130500901025\n"
     ]
    },
    {
     "name": "stderr",
     "output_type": "stream",
     "text": [
      "/home/carlos.hernandez/dl/lib/python3.8/site-packages/sklearn/base.py:450: UserWarning: X does not have valid feature names, but CoxPHSurvivalAnalysis was fitted with feature names\n",
      "  warnings.warn(\n",
      " 68%|██████████████████████████████████████████████████████████████████████████████████████████████████████████████████████▍                                                        | 23/34 [18:08<08:39, 47.25s/it]"
     ]
    },
    {
     "name": "stdout",
     "output_type": "stream",
     "text": [
      "time solving the problem 45.36456931999419\n"
     ]
    },
    {
     "name": "stderr",
     "output_type": "stream",
     "text": [
      "/home/carlos.hernandez/dl/lib/python3.8/site-packages/sklearn/base.py:450: UserWarning: X does not have valid feature names, but CoxPHSurvivalAnalysis was fitted with feature names\n",
      "  warnings.warn(\n",
      " 71%|███████████████████████████████████████████████████████████████████████████████████████████████████████████████████████████▌                                                   | 24/34 [18:56<07:55, 47.51s/it]"
     ]
    },
    {
     "name": "stdout",
     "output_type": "stream",
     "text": [
      "time solving the problem 46.93147626204882\n"
     ]
    },
    {
     "name": "stderr",
     "output_type": "stream",
     "text": [
      "/home/carlos.hernandez/dl/lib/python3.8/site-packages/sklearn/base.py:450: UserWarning: X does not have valid feature names, but CoxPHSurvivalAnalysis was fitted with feature names\n",
      "  warnings.warn(\n",
      " 74%|████████████████████████████████████████████████████████████████████████████████████████████████████████████████████████████████▋                                              | 25/34 [19:44<07:09, 47.72s/it]"
     ]
    },
    {
     "name": "stdout",
     "output_type": "stream",
     "text": [
      "time solving the problem 47.02396618202329\n"
     ]
    },
    {
     "name": "stderr",
     "output_type": "stream",
     "text": [
      "/home/carlos.hernandez/dl/lib/python3.8/site-packages/sklearn/base.py:450: UserWarning: X does not have valid feature names, but CoxPHSurvivalAnalysis was fitted with feature names\n",
      "  warnings.warn(\n",
      " 76%|█████████████████████████████████████████████████████████████████████████████████████████████████████████████████████████████████████▊                                         | 26/34 [20:31<06:19, 47.43s/it]"
     ]
    },
    {
     "name": "stdout",
     "output_type": "stream",
     "text": [
      "time solving the problem 45.57447500003036\n"
     ]
    },
    {
     "name": "stderr",
     "output_type": "stream",
     "text": [
      "/home/carlos.hernandez/dl/lib/python3.8/site-packages/sklearn/base.py:450: UserWarning: X does not have valid feature names, but CoxPHSurvivalAnalysis was fitted with feature names\n",
      "  warnings.warn(\n",
      " 79%|██████████████████████████████████████████████████████████████████████████████████████████████████████████████████████████████████████████▉                                    | 27/34 [21:19<05:33, 47.71s/it]"
     ]
    },
    {
     "name": "stdout",
     "output_type": "stream",
     "text": [
      "time solving the problem 47.18192396010272\n"
     ]
    },
    {
     "name": "stderr",
     "output_type": "stream",
     "text": [
      "/home/carlos.hernandez/dl/lib/python3.8/site-packages/sklearn/base.py:450: UserWarning: X does not have valid feature names, but CoxPHSurvivalAnalysis was fitted with feature names\n",
      "  warnings.warn(\n",
      " 82%|████████████████████████████████████████████████████████████████████████████████████████████████████████████████████████████████████████████████                               | 28/34 [22:08<04:48, 48.04s/it]"
     ]
    },
    {
     "name": "stdout",
     "output_type": "stream",
     "text": [
      "time solving the problem 47.62610996409785\n"
     ]
    },
    {
     "name": "stderr",
     "output_type": "stream",
     "text": [
      "/home/carlos.hernandez/dl/lib/python3.8/site-packages/sklearn/base.py:450: UserWarning: X does not have valid feature names, but CoxPHSurvivalAnalysis was fitted with feature names\n",
      "  warnings.warn(\n",
      " 85%|█████████████████████████████████████████████████████████████████████████████████████████████████████████████████████████████████████████████████████▎                         | 29/34 [22:55<03:58, 47.66s/it]"
     ]
    },
    {
     "name": "stdout",
     "output_type": "stream",
     "text": [
      "time solving the problem 45.57179899397306\n"
     ]
    },
    {
     "name": "stderr",
     "output_type": "stream",
     "text": [
      "/home/carlos.hernandez/dl/lib/python3.8/site-packages/sklearn/base.py:450: UserWarning: X does not have valid feature names, but CoxPHSurvivalAnalysis was fitted with feature names\n",
      "  warnings.warn(\n",
      " 88%|██████████████████████████████████████████████████████████████████████████████████████████████████████████████████████████████████████████████████████████▍                    | 30/34 [23:43<03:11, 47.88s/it]"
     ]
    },
    {
     "name": "stdout",
     "output_type": "stream",
     "text": [
      "time solving the problem 47.21241987799294\n"
     ]
    },
    {
     "name": "stderr",
     "output_type": "stream",
     "text": [
      "/home/carlos.hernandez/dl/lib/python3.8/site-packages/sklearn/base.py:450: UserWarning: X does not have valid feature names, but CoxPHSurvivalAnalysis was fitted with feature names\n",
      "  warnings.warn(\n",
      " 91%|███████████████████████████████████████████████████████████████████████████████████████████████████████████████████████████████████████████████████████████████▌               | 31/34 [24:30<02:22, 47.66s/it]"
     ]
    },
    {
     "name": "stdout",
     "output_type": "stream",
     "text": [
      "time solving the problem 45.962419465067796\n"
     ]
    },
    {
     "name": "stderr",
     "output_type": "stream",
     "text": [
      "/home/carlos.hernandez/dl/lib/python3.8/site-packages/sklearn/base.py:450: UserWarning: X does not have valid feature names, but CoxPHSurvivalAnalysis was fitted with feature names\n",
      "  warnings.warn(\n",
      " 94%|████████████████████████████████████████████████████████████████████████████████████████████████████████████████████████████████████████████████████████████████████▋          | 32/34 [25:15<01:33, 46.83s/it]"
     ]
    },
    {
     "name": "stdout",
     "output_type": "stream",
     "text": [
      "time solving the problem 43.71524105302524\n"
     ]
    },
    {
     "name": "stderr",
     "output_type": "stream",
     "text": [
      "/home/carlos.hernandez/dl/lib/python3.8/site-packages/sklearn/base.py:450: UserWarning: X does not have valid feature names, but CoxPHSurvivalAnalysis was fitted with feature names\n",
      "  warnings.warn(\n",
      " 97%|█████████████████████████████████████████████████████████████████████████████████████████████████████████████████████████████████████████████████████████████████████████▊     | 33/34 [26:04<00:47, 47.44s/it]"
     ]
    },
    {
     "name": "stdout",
     "output_type": "stream",
     "text": [
      "time solving the problem 47.65846757404506\n"
     ]
    },
    {
     "name": "stderr",
     "output_type": "stream",
     "text": [
      "/home/carlos.hernandez/dl/lib/python3.8/site-packages/sklearn/base.py:450: UserWarning: X does not have valid feature names, but CoxPHSurvivalAnalysis was fitted with feature names\n",
      "  warnings.warn(\n",
      "100%|███████████████████████████████████████████████████████████████████████████████████████████████████████████████████████████████████████████████████████████████████████████████| 34/34 [26:54<00:00, 47.48s/it]"
     ]
    },
    {
     "name": "stdout",
     "output_type": "stream",
     "text": [
      "time solving the problem 48.54495249397587\n"
     ]
    },
    {
     "name": "stderr",
     "output_type": "stream",
     "text": [
      "\n"
     ]
    }
   ],
   "source": [
    "from tqdm import tqdm\n",
    "\n",
    "times_to_fill = list(set(times_train)); times_to_fill.sort()\n",
    "columns = test[0].columns.tolist()\n",
    "num_pat = 200\n",
    "\n",
    "explainer = survlime_tabular.LimeTabularExplainer(train[0], target_data=train[1], feature_names=columns, class_names=None,\n",
    "                                                   categorical_features=None, verbose=True, mode='regression', discretize_continuous=False)\n",
    "compt_weights = []\n",
    "for test_point in tqdm(test[0].values):\n",
    "    H_i_j_wc, weights, log_correction, Ho_t_, scaled_data = \\\n",
    "                    explainer.explain_instance(test_point, model.predict_survival_function, num_samples = num_pat)\n",
    "    \n",
    "    b_ = explainer.solve_opt_problem(H_i_j_wc, weights, log_correction, Ho_t_, scaled_data, verbose=False)\n",
    "    compt_weights.append(b_)\n",
    "    "
   ]
  },
  {
   "cell_type": "code",
   "execution_count": 27,
   "id": "af39db51-4980-445d-bf06-7b2d0be0baca",
   "metadata": {},
   "outputs": [],
   "source": [
    "computation_veterans_2 = pd.DataFrame(compt_weights, columns=columns)\n",
    "\n",
    "#computation_veterans_2.to_csv('/home/carlos.hernandez/PhD/SurvLIME/udca_2_surv_weights.csv', index=False)"
   ]
  },
  {
   "cell_type": "code",
   "execution_count": 36,
   "id": "2297d8c7-965f-4cf8-959b-6fb8a413335d",
   "metadata": {},
   "outputs": [],
   "source": [
    "#computation_veteran.mean().to_numpy()\n",
    "computation_veterans_2 = pd.read_csv('/home/carlos.hernandez/PhD/SurvLIME/veterans_surv_weights.csv')"
   ]
  },
  {
   "cell_type": "code",
   "execution_count": 38,
   "id": "dbc30dda-f965-4460-99ce-d862cdca8c87",
   "metadata": {},
   "outputs": [
    {
     "name": "stderr",
     "output_type": "stream",
     "text": [
      "/home/carlos.hernandez/dl/lib/python3.8/site-packages/sksurv/linear_model/coxph.py:433: LinAlgWarning: Ill-conditioned matrix (rcond=3.96842e-17): result may not be accurate.\n",
      "  delta = solve(optimizer.hessian, optimizer.gradient,\n",
      "/home/carlos.hernandez/dl/lib/python3.8/site-packages/sksurv/linear_model/coxph.py:433: LinAlgWarning: Ill-conditioned matrix (rcond=9.98832e-18): result may not be accurate.\n",
      "  delta = solve(optimizer.hessian, optimizer.gradient,\n",
      "/home/carlos.hernandez/dl/lib/python3.8/site-packages/sksurv/linear_model/coxph.py:433: LinAlgWarning: Ill-conditioned matrix (rcond=1.52627e-17): result may not be accurate.\n",
      "  delta = solve(optimizer.hessian, optimizer.gradient,\n",
      "/home/carlos.hernandez/dl/lib/python3.8/site-packages/sksurv/linear_model/coxph.py:433: LinAlgWarning: Ill-conditioned matrix (rcond=2.03557e-17): result may not be accurate.\n",
      "  delta = solve(optimizer.hessian, optimizer.gradient,\n"
     ]
    },
    {
     "data": {
      "image/png": "[encoded data removed]",
      "text/plain": [
       "<Figure size 1080x360 with 2 Axes>"
      ]
     },
     "metadata": {
      "needs_background": "light"
     },
     "output_type": "display_data"
    }
   ],
   "source": [
    "from survLime.utils.generic_utils import compare_survival_times\n",
    "\n",
    "compare_survival_times(model, computation_veterans_2.mean(), train[0], train[1], test[0])"
   ]
  },
  {
   "cell_type": "markdown",
   "id": "9570b53c-675e-400b-a10a-642f902344db",
   "metadata": {},
   "source": [
    "### Old code\n",
    "#### It will get deleted eventually, now it's there for reference."
   ]
  },
  {
   "cell_type": "code",
   "execution_count": null,
   "id": "7e4fda03-978a-4613-b858-e539ffac94a1",
   "metadata": {},
   "outputs": [],
   "source": [
    "# \n",
    "\n",
    "\n",
    "from sksurv.nonparametric import nelson_aalen_estimator\n",
    "from functools import partial\n",
    "import cvxpy as cp\n",
    "from math import log\n",
    "import timeit\n",
    "import sklearn\n",
    "\n",
    "# Step one\n",
    "Ho_t_ = nelson_aalen_estimator(events_train, times_train)[0] # Unique times [0]; CHF [1]\n",
    "\n",
    "columns = test[0].columns.tolist()\n",
    "num_pat = 500\n",
    "\n",
    "# Step two\n",
    "explainer = survlime_tabular.LimeTabularExplainer(train[0], target_data=train[1], feature_names=columns, class_names=None,\n",
    "                                                   categorical_features=None, verbose=True, mode='regression', discretize_continuous=False)\n",
    "\n",
    "synthetic_data = explainer.data_inverse(test[0].iloc[0], num_pat) # At [0] we have the data and at [1]\n",
    "                                                        #the inverse, see what is this\n",
    "    \n",
    "# Third step: Obtain the prediction for the synthetic data \n",
    "H_i_j = model.predict_cumulative_hazard_function(synthetic_data[1]) # X_test_t -> [371, num_features]\n",
    "\n",
    "times_to_fill = list(set(times_train)); times_to_fill.sort()\n",
    "\n",
    "\n",
    "#Ho_t_ = [fill_matrix_with_total_times(times_to_fill, times_train, list(x.x)) for x in Ho_t_]\n",
    "H_i_j_wc = [fill_matrix_with_total_times(times_to_fill, x.y, list(x.x)) for x in H_i_j]"
   ]
  },
  {
   "cell_type": "code",
   "execution_count": null,
   "id": "d24142ea-b6cb-4543-946f-e882100af73b",
   "metadata": {},
   "outputs": [],
   "source": [
    "# Step two\n",
    "from sksurv.nonparametric import nelson_aalen_estimator\n",
    "from functools import partial\n",
    "import cvxpy as cp\n",
    "from math import log\n",
    "import timeit\n",
    "import sklearn\n",
    "\n",
    "times_to_fill = list(set(times_train)); times_to_fill.sort()\n",
    "columns = test[0].columns.tolist()\n",
    "num_pat = 500\n",
    "\n",
    "explainer = survlime_tabular.LimeTabularExplainer(train[0], target_data=train[1], feature_names=columns, class_names=None,\n",
    "                                                   categorical_features=None, verbose=True, mode='regression', discretize_continuous=False)\n",
    "\n",
    "H_i_j_wc, weights, log_correction, Ho_t_, scaled_data = \\\n",
    "                    explainer.explain_instance(test[0].iloc[0], model.predict_survival_function)"
   ]
  }
 ],
 "metadata": {
  "kernelspec": {
   "display_name": "Python 3 (ipykernel)",
   "language": "python",
   "name": "python3"
  },
  "language_info": {
   "codemirror_mode": {
    "name": "ipython",
    "version": 3
   },
   "file_extension": ".py",
   "mimetype": "text/x-python",
   "name": "python",
   "nbconvert_exporter": "python",
   "pygments_lexer": "ipython3",
   "version": "3.8.10"
  }
 },
 "nbformat": 4,
 "nbformat_minor": 5
}
