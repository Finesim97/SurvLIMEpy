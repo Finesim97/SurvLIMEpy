{
 "cells": [
  {
   "cell_type": "code",
   "execution_count": 58,
   "id": "da5c81f3-09aa-4502-8281-03425a66e4fb",
   "metadata": {},
   "outputs": [
    {
     "name": "stdout",
     "output_type": "stream",
     "text": [
      "The autoreload extension is already loaded. To reload it, use:\n",
      "  %reload_ext autoreload\n"
     ]
    }
   ],
   "source": [
    "%load_ext autoreload\n",
    "%autoreload 2\n",
    "\n",
    "\n",
    "import numpy as np\n",
    "import pandas as pd\n",
    "\n",
    "from sksurv.util import Surv\n",
    "from sksurv.linear_model import CoxPHSurvivalAnalysis\n",
    "from sksurv.ensemble import RandomSurvivalForest\n",
    "from sklearn.model_selection import train_test_split\n",
    "from sklearn.preprocessing import OneHotEncoder, StandardScaler\n",
    "\n",
    "\n",
    "# Our very own survLime!\n",
    "import survLime\n",
    "from survLime.datasets import load_datasets\n",
    "from survLime import survlime_tabular\n",
    "\n",
    "\n",
    "x,y = load_datasets.Loader('veteran')\n",
    "names = ['celltype_'+name for name in x.celltype.unique()]\n",
    "x[names] = pd.get_dummies(x.celltype)\n",
    "x.drop('celltype', inplace=True, axis=1)\n",
    "get_target = lambda df: df[['status','time']]"
   ]
  },
  {
   "cell_type": "code",
   "execution_count": null,
   "id": "7149ffd7-cd09-447a-bbe4-4e3fc73afa60",
   "metadata": {},
   "outputs": [],
   "source": []
  },
  {
   "cell_type": "code",
   "execution_count": 59,
   "id": "413e1285-2bdf-43a5-9f37-2fb1ba572799",
   "metadata": {},
   "outputs": [],
   "source": [
    "X_train, X_test, y_train, y_test = train_test_split(x.copy(), y, test_size=0.05, random_state=1)\n",
    "X_val, X_test, y_val, y_test = train_test_split(X_test.copy(), y_test, test_size=0.5, random_state=1)\n",
    "scaler = StandardScaler()\n",
    "\n",
    "X_train_processed = pd.DataFrame(data=scaler.fit_transform(X_train, y_train),\n",
    "                                 columns=X_train.columns, index=X_train.index)\n",
    "\n",
    "X_test_t = pd.DataFrame(data=scaler.transform(X_test),\n",
    "                                 columns=X_test.columns, index=X_test.index)\n",
    "\n",
    "#print(hasattr(scaler, \"n_features_in_\"))\n",
    "events_train = [x[0] for x in y_train]\n",
    "times_train  = [x[1] for x in y_train]\n",
    "\n",
    "events_val = [x[0] for x in y_val]\n",
    "times_val  = [x[1] for x in y_val]\n",
    "\n",
    "events_test = [x[0] for x in y_test]\n",
    "times_test  = [x[1] for x in y_test]\n",
    "\n",
    "y_train = Surv.from_arrays(events_train, times_train)\n",
    "y_val   = Surv.from_arrays(events_val, times_val)\n",
    "y_test  = Surv.from_arrays(events_test, times_test)\n"
   ]
  },
  {
   "cell_type": "code",
   "execution_count": 118,
   "id": "71507356-c616-4912-b6e6-b9d6c8672bd6",
   "metadata": {},
   "outputs": [
    {
     "name": "stderr",
     "output_type": "stream",
     "text": [
      "/home/carlos.hernandez/dl/lib/python3.8/site-packages/sksurv/linear_model/coxph.py:433: LinAlgWarning: Ill-conditioned matrix (rcond=5.51205e-17): result may not be accurate.\n",
      "  delta = solve(optimizer.hessian, optimizer.gradient,\n",
      "/home/carlos.hernandez/dl/lib/python3.8/site-packages/sksurv/linear_model/coxph.py:433: LinAlgWarning: Ill-conditioned matrix (rcond=7.75565e-17): result may not be accurate.\n",
      "  delta = solve(optimizer.hessian, optimizer.gradient,\n",
      "/home/carlos.hernandez/dl/lib/python3.8/site-packages/sksurv/linear_model/coxph.py:433: LinAlgWarning: Ill-conditioned matrix (rcond=5.68509e-17): result may not be accurate.\n",
      "  delta = solve(optimizer.hessian, optimizer.gradient,\n",
      "/home/carlos.hernandez/dl/lib/python3.8/site-packages/sksurv/linear_model/coxph.py:433: LinAlgWarning: Ill-conditioned matrix (rcond=3.1072e-17): result may not be accurate.\n",
      "  delta = solve(optimizer.hessian, optimizer.gradient,\n",
      "/home/carlos.hernandez/dl/lib/python3.8/site-packages/sksurv/linear_model/coxph.py:433: LinAlgWarning: Ill-conditioned matrix (rcond=2.58948e-17): result may not be accurate.\n",
      "  delta = solve(optimizer.hessian, optimizer.gradient,\n"
     ]
    },
    {
     "data": {
      "text/plain": [
       "0.7374952513612765"
      ]
     },
     "execution_count": 118,
     "metadata": {},
     "output_type": "execute_result"
    }
   ],
   "source": [
    "model = CoxPHSurvivalAnalysis()\n",
    "#model = RandomSurvivalForest()\n",
    "model.fit(X_train_processed, y_train)\n",
    "model.score(X_train_processed.copy(), y_train)"
   ]
  },
  {
   "cell_type": "code",
   "execution_count": 119,
   "id": "93e2befe-6fab-48eb-8bdf-31e67d84037a",
   "metadata": {},
   "outputs": [],
   "source": [
    "def fill_matrix(total_times, matrix, event_times):\n",
    "    gl = []\n",
    "    for time in total_times:\n",
    "        if time in event_times:\n",
    "            time_index = event_times.index(time)\n",
    "            gl.append(matrix[time_index])\n",
    "        else:\n",
    "            gl.append(gl[-1])\n",
    "    return gl\n",
    "\n",
    "\n",
    "\n",
    "def kernel(d, kernel_width):\n",
    "    return np.sqrt(np.exp(-(d ** 2) / kernel_width ** 2)) "
   ]
  },
  {
   "cell_type": "code",
   "execution_count": 120,
   "id": "95486c0a-044c-433a-b333-182fba300aba",
   "metadata": {},
   "outputs": [
    {
     "name": "stderr",
     "output_type": "stream",
     "text": [
      "/home/carlos.hernandez/dl/lib/python3.8/site-packages/sklearn/base.py:450: UserWarning: X does not have valid feature names, but CoxPHSurvivalAnalysis was fitted with feature names\n",
      "  warnings.warn(\n"
     ]
    }
   ],
   "source": [
    "from sksurv.nonparametric import nelson_aalen_estimator\n",
    "from functools import partial\n",
    "import cvxpy as cp\n",
    "from math import log\n",
    "import timeit\n",
    "import sklearn\n",
    "\n",
    "# Step one\n",
    "Ho_t_ = nelson_aalen_estimator(events_train, times_train)[0] # Unique times [0]; CHF [1]\n",
    "\n",
    "\n",
    "columns = X_test.columns.tolist()\n",
    "num_pat = 500\n",
    "\n",
    "# Step two\n",
    "explainer = survlime_tabular.LimeTabularExplainer(X_train_processed, feature_names=columns, class_names=None,\n",
    "                                                   categorical_features=None, verbose=True, mode='regression', discretize_continuous=False)\n",
    "\n",
    "synthetic_data = explainer.data_inverse(X_train_processed.iloc[0], num_pat) # At [0] we have the data and at [1]\n",
    "                                                        #the inverse, see what is this\n",
    "    \n",
    "# Third step: Obtain the prediction for the synthetic data \n",
    "H_i_j = model.predict_cumulative_hazard_function(synthetic_data[1]) # X_test_t -> [371, num_features]\n",
    "times_to_fill = list(set(times_train))\n",
    "H_i_j[0]\n",
    "H_i_j_wc = [fill_matrix(times_to_fill, x.y, list(x.x)) for x in H_i_j]"
   ]
  },
  {
   "cell_type": "code",
   "execution_count": 121,
   "id": "5701b03f-f6a6-4250-aa3a-0dd34d186cef",
   "metadata": {},
   "outputs": [
    {
     "data": {
      "text/plain": [
       "StandardScaler(with_mean=False)"
      ]
     },
     "execution_count": 121,
     "metadata": {},
     "output_type": "execute_result"
    }
   ],
   "source": [
    "explainer.scaler"
   ]
  },
  {
   "cell_type": "code",
   "execution_count": 122,
   "id": "c05a913e-3db0-4c69-aad4-94d780e53887",
   "metadata": {},
   "outputs": [],
   "source": [
    "kernel_fn = partial(kernel, kernel_width=5)\n",
    "\n",
    "# We need to do the line 362 from survlime_tabular (scale the data)\n",
    "scaled_data = synthetic_data[0] # We need to scale this\n",
    "scaled_data_ = (scaled_data - explainer.scaler.mean_) / explainer.scaler.scale_\n",
    "distances = sklearn.metrics.pairwise_distances(\n",
    "            scaled_data,\n",
    "            scaled_data[0].reshape(1,-1), # <-- Point of inquiry\n",
    "            metric = 'euclidean').ravel()\n",
    "weights = kernel_fn(distances)"
   ]
  },
  {
   "cell_type": "code",
   "execution_count": 123,
   "id": "852a7ea1-565b-4814-98de-7760c8b889eb",
   "metadata": {},
   "outputs": [
    {
     "data": {
      "text/plain": [
       "array([ 0.9696899 ,  0.025794  , -0.51738488, -0.01296483, -0.64268459,\n",
       "       -0.51199211, -0.5       , -0.7152817 ,  1.71446608])"
      ]
     },
     "execution_count": 123,
     "metadata": {},
     "output_type": "execute_result"
    }
   ],
   "source": [
    "scaled_data[0]"
   ]
  },
  {
   "cell_type": "code",
   "execution_count": 124,
   "id": "b1e6d170-4e69-4649-8440-a6965b4e2808",
   "metadata": {},
   "outputs": [
    {
     "data": {
      "text/plain": [
       "array([ 0.9696899 ,  0.025794  , -0.51738488, -0.01296483, -0.64268459,\n",
       "       -0.51199211, -0.5       , -0.7152817 ,  1.71446608])"
      ]
     },
     "execution_count": 124,
     "metadata": {},
     "output_type": "execute_result"
    }
   ],
   "source": [
    "scaled_data_[0]"
   ]
  },
  {
   "cell_type": "code",
   "execution_count": null,
   "id": "2297d8c7-965f-4cf8-959b-6fb8a413335d",
   "metadata": {},
   "outputs": [],
   "source": [
    "start_time = timeit.default_timer()\n",
    "# code you want to evaluate\n",
    "timeit.default_timer() - start_time\n",
    "\n",
    "epsilon = 0.00000001\n",
    "n = 9 # For now we are only using 3 features\n",
    "num_times = len(set(times_to_fill))-1\n",
    "b = cp.Variable(n)\n",
    "\n",
    "\n",
    "# We are having Conconcave problems here!!\n",
    "cost = [weights[k]*cp.sum_squares((log(H_i_j_wc[k][j]+epsilon) - log(Ho_t_[j]+epsilon) - b @ scaled_data[k]))\\\n",
    "        for k in range(num_pat) for j in range(num_times)] # *(times_to_fill[j+1]-times_to_fill[j])\n",
    "#cost = [weights[k]*cp.norm((log(H_i_j_wc[k][j]+epsilon) - log(Ho_t_[j]+epsilon) - b @ scaled_data[k]),'inf') \\\n",
    "#                                            for k in range(num_pat) for j in range(num_times)]\n",
    "print(f'time creating the cost list {timeit.default_timer() - start_time}')\n",
    "\n",
    "start_time = timeit.default_timer()\n",
    "cost_sum = cp.sum(cost)\n",
    "\n",
    "print(f'time summing the cost list {timeit.default_timer() - start_time}')\n",
    "start_time = timeit.default_timer()\n",
    "\n",
    "prob = cp.Problem(cp.Minimize(cost_sum))\n",
    "\n",
    "\n",
    "opt_val = prob.solve(verbose=True)\n",
    "print(f'time solving the problem {timeit.default_timer() - start_time}')\n",
    "b.value"
   ]
  },
  {
   "cell_type": "code",
   "execution_count": 36,
   "id": "ce87d99f-1421-47a0-bece-1f0a2bd4b655",
   "metadata": {},
   "outputs": [
    {
     "data": {
      "text/plain": [
       "trt                  -0.152458\n",
       "karno                -0.184187\n",
       "diagtime              0.011751\n",
       "age                   0.110954\n",
       "prior                -0.073220\n",
       "celltype_squamous    -0.464872\n",
       "celltype_smallcell    0.263472\n",
       "celltype_adeno        0.344233\n",
       "celltype_large        0.031922\n",
       "Name: SurvLIME, dtype: float64"
      ]
     },
     "execution_count": 36,
     "metadata": {},
     "output_type": "execute_result"
    }
   ],
   "source": [
    "df = pd.DataFrame(columns=model.feature_names_in_, \n",
    "                  data=[b.value, model.coef_], index=['SurvLIME','CoxPH'])\n",
    "type(model)\n",
    "isinstance(model, CoxPHSurvivalAnalysis)\n",
    "df.transpose()['SurvLIME']"
   ]
  },
  {
   "cell_type": "code",
   "execution_count": 117,
   "id": "dbc30dda-f965-4460-99ce-d862cdca8c87",
   "metadata": {},
   "outputs": [
    {
     "name": "stderr",
     "output_type": "stream",
     "text": [
      "/home/carlos.hernandez/dl/lib/python3.8/site-packages/sksurv/linear_model/coxph.py:433: LinAlgWarning: Ill-conditioned matrix (rcond=5.51205e-17): result may not be accurate.\n",
      "  delta = solve(optimizer.hessian, optimizer.gradient,\n",
      "/home/carlos.hernandez/dl/lib/python3.8/site-packages/sksurv/linear_model/coxph.py:433: LinAlgWarning: Ill-conditioned matrix (rcond=7.75565e-17): result may not be accurate.\n",
      "  delta = solve(optimizer.hessian, optimizer.gradient,\n",
      "/home/carlos.hernandez/dl/lib/python3.8/site-packages/sksurv/linear_model/coxph.py:433: LinAlgWarning: Ill-conditioned matrix (rcond=5.68509e-17): result may not be accurate.\n",
      "  delta = solve(optimizer.hessian, optimizer.gradient,\n",
      "/home/carlos.hernandez/dl/lib/python3.8/site-packages/sksurv/linear_model/coxph.py:433: LinAlgWarning: Ill-conditioned matrix (rcond=3.1072e-17): result may not be accurate.\n",
      "  delta = solve(optimizer.hessian, optimizer.gradient,\n",
      "/home/carlos.hernandez/dl/lib/python3.8/site-packages/sksurv/linear_model/coxph.py:433: LinAlgWarning: Ill-conditioned matrix (rcond=2.58948e-17): result may not be accurate.\n",
      "  delta = solve(optimizer.hessian, optimizer.gradient,\n"
     ]
    },
    {
     "name": "stdout",
     "output_type": "stream",
     "text": [
      "> \u001b[0;32m/home/carlos.hernandez/PhD/SurvLIME/survLime/utils/generic_utils.py\u001b[0m(33)\u001b[0;36mfill_matrix_with_total_times\u001b[0;34m()\u001b[0m\n",
      "\u001b[0;32m     32 \u001b[0;31m    \u001b[0mgl\u001b[0m \u001b[0;34m=\u001b[0m \u001b[0;34m[\u001b[0m\u001b[0;34m]\u001b[0m\u001b[0;34m\u001b[0m\u001b[0;34m\u001b[0m\u001b[0m\n",
      "\u001b[0m\u001b[0;32m---> 33 \u001b[0;31m    \u001b[0;32mfor\u001b[0m \u001b[0mtime\u001b[0m \u001b[0;32min\u001b[0m \u001b[0mtotal_times\u001b[0m\u001b[0;34m:\u001b[0m\u001b[0;34m\u001b[0m\u001b[0;34m\u001b[0m\u001b[0m\n",
      "\u001b[0m\u001b[0;32m     34 \u001b[0;31m        \u001b[0;32mif\u001b[0m \u001b[0mtime\u001b[0m \u001b[0;32min\u001b[0m \u001b[0mevent_times\u001b[0m\u001b[0;34m:\u001b[0m\u001b[0;34m\u001b[0m\u001b[0;34m\u001b[0m\u001b[0m\n",
      "\u001b[0m\n"
     ]
    },
    {
     "name": "stdin",
     "output_type": "stream",
     "text": [
      "ipdb>  c\n"
     ]
    },
    {
     "name": "stdout",
     "output_type": "stream",
     "text": [
      "> \u001b[0;32m/home/carlos.hernandez/PhD/SurvLIME/survLime/utils/generic_utils.py\u001b[0m(33)\u001b[0;36mfill_matrix_with_total_times\u001b[0;34m()\u001b[0m\n",
      "\u001b[0;32m     32 \u001b[0;31m    \u001b[0mgl\u001b[0m \u001b[0;34m=\u001b[0m \u001b[0;34m[\u001b[0m\u001b[0;34m]\u001b[0m\u001b[0;34m\u001b[0m\u001b[0;34m\u001b[0m\u001b[0m\n",
      "\u001b[0m\u001b[0;32m---> 33 \u001b[0;31m    \u001b[0;32mfor\u001b[0m \u001b[0mtime\u001b[0m \u001b[0;32min\u001b[0m \u001b[0mtotal_times\u001b[0m\u001b[0;34m:\u001b[0m\u001b[0;34m\u001b[0m\u001b[0;34m\u001b[0m\u001b[0m\n",
      "\u001b[0m\u001b[0;32m     34 \u001b[0;31m        \u001b[0;32mif\u001b[0m \u001b[0mtime\u001b[0m \u001b[0;32min\u001b[0m \u001b[0mevent_times\u001b[0m\u001b[0;34m:\u001b[0m\u001b[0;34m\u001b[0m\u001b[0;34m\u001b[0m\u001b[0m\n",
      "\u001b[0m\n"
     ]
    },
    {
     "name": "stdin",
     "output_type": "stream",
     "text": [
      "ipdb>  gl\n"
     ]
    },
    {
     "name": "stdout",
     "output_type": "stream",
     "text": [
      "[0.9719047619047619, 0.9719047619047619, 0.9719047619047619, 0.9719047619047619, 0.9627380952380952, 0.9627380952380952, 0.9607380952380953, 0.9607380952380953, 0.9574047619047619, 0.943404761904762, 0.943404761904762, 0.943404761904762, 0.943404761904762, 0.943404761904762, 0.9409047619047619, 0.9409047619047619, 0.9372380952380952, 0.9372380952380952, 0.9372380952380952, 0.920892857142857, 0.920892857142857, 0.8985476190476188, 0.8985476190476188, 0.8985476190476188, 0.8870476190476189, 0.8870476190476189, 0.871880952380952, 0.871880952380952, 0.871880952380952, 0.871880952380952, 0.866880952380952, 0.8451309523809521, 0.8402142857142855, 0.8377142857142854, 0.8377142857142854, 0.8377142857142854, 0.8377142857142854, 0.8377142857142854, 0.8233809523809521, 0.8213809523809522, 0.8213809523809522, 0.8213809523809522, 0.8213809523809522, 0.8213809523809522, 0.814380952380952, 0.8098809523809521, 0.8098809523809521, 0.8073809523809521, 0.8073809523809521, 0.8073809523809521, 0.8057142857142854, 0.8057142857142854, 0.8057142857142854, 0.8057142857142854, 0.717642857142857, 0.6778214285714285, 0.6778214285714285, 0.6761547619047618, 0.6761547619047618, 0.6761547619047618, 0.667154761904762, 0.667154761904762, 0.665154761904762, 0.665154761904762, 0.6598214285714284, 0.6598214285714284, 0.6434880952380954, 0.6434880952380954, 0.6434880952380954, 0.6434880952380954, 0.6434880952380954, 0.6434880952380954, 0.6434880952380954, 0.6434880952380954, 0.6434880952380954, 0.6434880952380954, 0.635654761904762, 0.635654761904762, 0.5759880952380952, 0.5759880952380952, 0.5225714285714286, 0.5134047619047619, 0.5100714285714285, 0.4726547619047618, 0.45357142857142846, 0.45357142857142846, 0.389404761904762, 0.38407142857142856, 0.38407142857142856, 0.34740476190476194, 0.34740476190476194, 0.33665476190476185, 0.32265476190476183, 0.3059880952380952, 0.07823809523809523, 0.02515476190476191]\n"
     ]
    },
    {
     "name": "stdin",
     "output_type": "stream",
     "text": [
      "ipdb>  c\n"
     ]
    },
    {
     "name": "stdout",
     "output_type": "stream",
     "text": [
      "> \u001b[0;32m/home/carlos.hernandez/PhD/SurvLIME/survLime/utils/generic_utils.py\u001b[0m(33)\u001b[0;36mfill_matrix_with_total_times\u001b[0;34m()\u001b[0m\n",
      "\u001b[0;32m     32 \u001b[0;31m    \u001b[0mgl\u001b[0m \u001b[0;34m=\u001b[0m \u001b[0;34m[\u001b[0m\u001b[0;34m]\u001b[0m\u001b[0;34m\u001b[0m\u001b[0;34m\u001b[0m\u001b[0m\n",
      "\u001b[0m\u001b[0;32m---> 33 \u001b[0;31m    \u001b[0;32mfor\u001b[0m \u001b[0mtime\u001b[0m \u001b[0;32min\u001b[0m \u001b[0mtotal_times\u001b[0m\u001b[0;34m:\u001b[0m\u001b[0;34m\u001b[0m\u001b[0;34m\u001b[0m\u001b[0m\n",
      "\u001b[0m\u001b[0;32m     34 \u001b[0;31m        \u001b[0;32mif\u001b[0m \u001b[0mtime\u001b[0m \u001b[0;32min\u001b[0m \u001b[0mevent_times\u001b[0m\u001b[0;34m:\u001b[0m\u001b[0;34m\u001b[0m\u001b[0;34m\u001b[0m\u001b[0m\n",
      "\u001b[0m\n"
     ]
    },
    {
     "name": "stdin",
     "output_type": "stream",
     "text": [
      "ipdb>  c\n"
     ]
    },
    {
     "name": "stdout",
     "output_type": "stream",
     "text": [
      "> \u001b[0;32m/home/carlos.hernandez/PhD/SurvLIME/survLime/utils/generic_utils.py\u001b[0m(87)\u001b[0;36mcompare_survival_times\u001b[0;34m()\u001b[0m\n",
      "\u001b[0;32m     86 \u001b[0;31m        \u001b[0;32mimport\u001b[0m \u001b[0mipdb\u001b[0m\u001b[0;34m;\u001b[0m\u001b[0mipdb\u001b[0m\u001b[0;34m.\u001b[0m\u001b[0mset_trace\u001b[0m\u001b[0;34m(\u001b[0m\u001b[0;34m)\u001b[0m\u001b[0;34m\u001b[0m\u001b[0;34m\u001b[0m\u001b[0m\n",
      "\u001b[0m\u001b[0;32m---> 87 \u001b[0;31m        \u001b[0mplt\u001b[0m\u001b[0;34m.\u001b[0m\u001b[0mstep\u001b[0m\u001b[0;34m(\u001b[0m\u001b[0mpreds_survlime\u001b[0m\u001b[0;34m[\u001b[0m\u001b[0;36m0\u001b[0m\u001b[0;34m]\u001b[0m\u001b[0;34m.\u001b[0m\u001b[0mx\u001b[0m\u001b[0;34m,\u001b[0m \u001b[0mpreds_bb_y\u001b[0m\u001b[0;34m,\u001b[0m \u001b[0mwhere\u001b[0m\u001b[0;34m=\u001b[0m\u001b[0;34m\"post\"\u001b[0m\u001b[0;34m,\u001b[0m \u001b[0mlabel\u001b[0m\u001b[0;34m=\u001b[0m\u001b[0;34m'BB model'\u001b[0m\u001b[0;34m)\u001b[0m\u001b[0;34m\u001b[0m\u001b[0;34m\u001b[0m\u001b[0m\n",
      "\u001b[0m\u001b[0;32m     88 \u001b[0;31m        \u001b[0mplt\u001b[0m\u001b[0;34m.\u001b[0m\u001b[0mstep\u001b[0m\u001b[0;34m(\u001b[0m\u001b[0mpreds_survlime\u001b[0m\u001b[0;34m[\u001b[0m\u001b[0;36m0\u001b[0m\u001b[0;34m]\u001b[0m\u001b[0;34m.\u001b[0m\u001b[0mx\u001b[0m\u001b[0;34m,\u001b[0m \u001b[0mpreds_surv_y\u001b[0m\u001b[0;34m,\u001b[0m \u001b[0mwhere\u001b[0m\u001b[0;34m=\u001b[0m\u001b[0;34m\"post\"\u001b[0m\u001b[0;34m,\u001b[0m \u001b[0mlabel\u001b[0m\u001b[0;34m=\u001b[0m\u001b[0;34m'SurvLIME'\u001b[0m\u001b[0;34m)\u001b[0m\u001b[0;34m\u001b[0m\u001b[0;34m\u001b[0m\u001b[0m\n",
      "\u001b[0m\n"
     ]
    },
    {
     "name": "stdin",
     "output_type": "stream",
     "text": [
      "ipdb>  c\n"
     ]
    },
    {
     "data": {
      "image/png": "[encoded data removed]",
      "text/plain": [
       "<Figure size 432x288 with 1 Axes>"
      ]
     },
     "metadata": {
      "needs_background": "light"
     },
     "output_type": "display_data"
    }
   ],
   "source": [
    "from survLime.utils.generic_utils import compare_survival_times\n",
    "\n",
    "compare_survival_times(model, b.value, X_train_processed, y_train, X_train_processed)"
   ]
  },
  {
   "cell_type": "code",
   "execution_count": 96,
   "id": "7e4fda03-978a-4613-b858-e539ffac94a1",
   "metadata": {},
   "outputs": [
    {
     "ename": "ValueError",
     "evalue": "Found input variables with inconsistent numbers of samples: [97, 93]",
     "output_type": "error",
     "traceback": [
      "\u001b[0;31m---------------------------------------------------------------------------\u001b[0m",
      "\u001b[0;31mValueError\u001b[0m                                Traceback (most recent call last)",
      "\u001b[0;32m/tmp/ipykernel_1370033/1197981339.py\u001b[0m in \u001b[0;36m<module>\u001b[0;34m\u001b[0m\n\u001b[1;32m      1\u001b[0m \u001b[0mmodel\u001b[0m\u001b[0;34m.\u001b[0m\u001b[0mevent_times_\u001b[0m \u001b[0;34m=\u001b[0m\u001b[0mjaja\u001b[0m\u001b[0;34m\u001b[0m\u001b[0;34m\u001b[0m\u001b[0m\n\u001b[0;32m----> 2\u001b[0;31m \u001b[0mmodel\u001b[0m\u001b[0;34m.\u001b[0m\u001b[0mpredict_survival_function\u001b[0m\u001b[0;34m(\u001b[0m\u001b[0mX_train_processed\u001b[0m\u001b[0;34m)\u001b[0m\u001b[0;34m[\u001b[0m\u001b[0;36m0\u001b[0m\u001b[0;34m]\u001b[0m\u001b[0;34m.\u001b[0m\u001b[0mx\u001b[0m\u001b[0;34m.\u001b[0m\u001b[0m__len__\u001b[0m\u001b[0;34m(\u001b[0m\u001b[0;34m)\u001b[0m\u001b[0;34m\u001b[0m\u001b[0;34m\u001b[0m\u001b[0m\n\u001b[0m",
      "\u001b[0;32m~/dl/lib/python3.8/site-packages/sksurv/ensemble/forest.py\u001b[0m in \u001b[0;36mpredict_survival_function\u001b[0;34m(self, X, return_array)\u001b[0m\n\u001b[1;32m    583\u001b[0m         \u001b[0;34m>>\u001b[0m\u001b[0;34m>\u001b[0m \u001b[0mplt\u001b[0m\u001b[0;34m.\u001b[0m\u001b[0mshow\u001b[0m\u001b[0;34m(\u001b[0m\u001b[0;34m)\u001b[0m\u001b[0;34m\u001b[0m\u001b[0;34m\u001b[0m\u001b[0m\n\u001b[1;32m    584\u001b[0m         \"\"\"\n\u001b[0;32m--> 585\u001b[0;31m         \u001b[0;32mreturn\u001b[0m \u001b[0msuper\u001b[0m\u001b[0;34m(\u001b[0m\u001b[0;34m)\u001b[0m\u001b[0;34m.\u001b[0m\u001b[0mpredict_survival_function\u001b[0m\u001b[0;34m(\u001b[0m\u001b[0mX\u001b[0m\u001b[0;34m,\u001b[0m \u001b[0mreturn_array\u001b[0m\u001b[0;34m)\u001b[0m\u001b[0;34m\u001b[0m\u001b[0;34m\u001b[0m\u001b[0m\n\u001b[0m\u001b[1;32m    586\u001b[0m \u001b[0;34m\u001b[0m\u001b[0m\n\u001b[1;32m    587\u001b[0m \u001b[0;34m\u001b[0m\u001b[0m\n",
      "\u001b[0;32m~/dl/lib/python3.8/site-packages/sksurv/ensemble/forest.py\u001b[0m in \u001b[0;36mpredict_survival_function\u001b[0;34m(self, X, return_array)\u001b[0m\n\u001b[1;32m    262\u001b[0m         \u001b[0;32mif\u001b[0m \u001b[0mreturn_array\u001b[0m\u001b[0;34m:\u001b[0m\u001b[0;34m\u001b[0m\u001b[0;34m\u001b[0m\u001b[0m\n\u001b[1;32m    263\u001b[0m             \u001b[0;32mreturn\u001b[0m \u001b[0marr\u001b[0m\u001b[0;34m\u001b[0m\u001b[0;34m\u001b[0m\u001b[0m\n\u001b[0;32m--> 264\u001b[0;31m         \u001b[0;32mreturn\u001b[0m \u001b[0m_array_to_step_function\u001b[0m\u001b[0;34m(\u001b[0m\u001b[0mself\u001b[0m\u001b[0;34m.\u001b[0m\u001b[0mevent_times_\u001b[0m\u001b[0;34m,\u001b[0m \u001b[0marr\u001b[0m\u001b[0;34m)\u001b[0m\u001b[0;34m\u001b[0m\u001b[0;34m\u001b[0m\u001b[0m\n\u001b[0m\u001b[1;32m    265\u001b[0m \u001b[0;34m\u001b[0m\u001b[0m\n\u001b[1;32m    266\u001b[0m \u001b[0;34m\u001b[0m\u001b[0m\n",
      "\u001b[0;32m~/dl/lib/python3.8/site-packages/sksurv/tree/tree.py\u001b[0m in \u001b[0;36m_array_to_step_function\u001b[0;34m(x, array)\u001b[0m\n\u001b[1;32m     25\u001b[0m     \u001b[0mfuncs\u001b[0m \u001b[0;34m=\u001b[0m \u001b[0mnp\u001b[0m\u001b[0;34m.\u001b[0m\u001b[0mempty\u001b[0m\u001b[0;34m(\u001b[0m\u001b[0mn_samples\u001b[0m\u001b[0;34m,\u001b[0m \u001b[0mdtype\u001b[0m\u001b[0;34m=\u001b[0m\u001b[0mnp\u001b[0m\u001b[0;34m.\u001b[0m\u001b[0mobject_\u001b[0m\u001b[0;34m)\u001b[0m\u001b[0;34m\u001b[0m\u001b[0;34m\u001b[0m\u001b[0m\n\u001b[1;32m     26\u001b[0m     \u001b[0;32mfor\u001b[0m \u001b[0mi\u001b[0m \u001b[0;32min\u001b[0m \u001b[0mrange\u001b[0m\u001b[0;34m(\u001b[0m\u001b[0mn_samples\u001b[0m\u001b[0;34m)\u001b[0m\u001b[0;34m:\u001b[0m\u001b[0;34m\u001b[0m\u001b[0;34m\u001b[0m\u001b[0m\n\u001b[0;32m---> 27\u001b[0;31m         funcs[i] = StepFunction(x=x,\n\u001b[0m\u001b[1;32m     28\u001b[0m                                 y=array[i])\n\u001b[1;32m     29\u001b[0m     \u001b[0;32mreturn\u001b[0m \u001b[0mfuncs\u001b[0m\u001b[0;34m\u001b[0m\u001b[0;34m\u001b[0m\u001b[0m\n",
      "\u001b[0;32m~/dl/lib/python3.8/site-packages/sksurv/functions.py\u001b[0m in \u001b[0;36m__init__\u001b[0;34m(self, x, y, a, b)\u001b[0m\n\u001b[1;32m     41\u001b[0m     \"\"\"\n\u001b[1;32m     42\u001b[0m     \u001b[0;32mdef\u001b[0m \u001b[0m__init__\u001b[0m\u001b[0;34m(\u001b[0m\u001b[0mself\u001b[0m\u001b[0;34m,\u001b[0m \u001b[0mx\u001b[0m\u001b[0;34m,\u001b[0m \u001b[0my\u001b[0m\u001b[0;34m,\u001b[0m \u001b[0ma\u001b[0m\u001b[0;34m=\u001b[0m\u001b[0;36m1.\u001b[0m\u001b[0;34m,\u001b[0m \u001b[0mb\u001b[0m\u001b[0;34m=\u001b[0m\u001b[0;36m0.\u001b[0m\u001b[0;34m)\u001b[0m\u001b[0;34m:\u001b[0m\u001b[0;34m\u001b[0m\u001b[0;34m\u001b[0m\u001b[0m\n\u001b[0;32m---> 43\u001b[0;31m         \u001b[0mcheck_consistent_length\u001b[0m\u001b[0;34m(\u001b[0m\u001b[0mx\u001b[0m\u001b[0;34m,\u001b[0m \u001b[0my\u001b[0m\u001b[0;34m)\u001b[0m\u001b[0;34m\u001b[0m\u001b[0;34m\u001b[0m\u001b[0m\n\u001b[0m\u001b[1;32m     44\u001b[0m         \u001b[0mself\u001b[0m\u001b[0;34m.\u001b[0m\u001b[0mx\u001b[0m \u001b[0;34m=\u001b[0m \u001b[0mx\u001b[0m\u001b[0;34m\u001b[0m\u001b[0;34m\u001b[0m\u001b[0m\n\u001b[1;32m     45\u001b[0m         \u001b[0mself\u001b[0m\u001b[0;34m.\u001b[0m\u001b[0my\u001b[0m \u001b[0;34m=\u001b[0m \u001b[0my\u001b[0m\u001b[0;34m\u001b[0m\u001b[0;34m\u001b[0m\u001b[0m\n",
      "\u001b[0;32m~/dl/lib/python3.8/site-packages/sklearn/utils/validation.py\u001b[0m in \u001b[0;36mcheck_consistent_length\u001b[0;34m(*arrays)\u001b[0m\n\u001b[1;32m    330\u001b[0m     \u001b[0muniques\u001b[0m \u001b[0;34m=\u001b[0m \u001b[0mnp\u001b[0m\u001b[0;34m.\u001b[0m\u001b[0munique\u001b[0m\u001b[0;34m(\u001b[0m\u001b[0mlengths\u001b[0m\u001b[0;34m)\u001b[0m\u001b[0;34m\u001b[0m\u001b[0;34m\u001b[0m\u001b[0m\n\u001b[1;32m    331\u001b[0m     \u001b[0;32mif\u001b[0m \u001b[0mlen\u001b[0m\u001b[0;34m(\u001b[0m\u001b[0muniques\u001b[0m\u001b[0;34m)\u001b[0m \u001b[0;34m>\u001b[0m \u001b[0;36m1\u001b[0m\u001b[0;34m:\u001b[0m\u001b[0;34m\u001b[0m\u001b[0;34m\u001b[0m\u001b[0m\n\u001b[0;32m--> 332\u001b[0;31m         raise ValueError(\n\u001b[0m\u001b[1;32m    333\u001b[0m             \u001b[0;34m\"Found input variables with inconsistent numbers of samples: %r\"\u001b[0m\u001b[0;34m\u001b[0m\u001b[0;34m\u001b[0m\u001b[0m\n\u001b[1;32m    334\u001b[0m             \u001b[0;34m%\u001b[0m \u001b[0;34m[\u001b[0m\u001b[0mint\u001b[0m\u001b[0;34m(\u001b[0m\u001b[0ml\u001b[0m\u001b[0;34m)\u001b[0m \u001b[0;32mfor\u001b[0m \u001b[0ml\u001b[0m \u001b[0;32min\u001b[0m \u001b[0mlengths\u001b[0m\u001b[0;34m]\u001b[0m\u001b[0;34m\u001b[0m\u001b[0;34m\u001b[0m\u001b[0m\n",
      "\u001b[0;31mValueError\u001b[0m: Found input variables with inconsistent numbers of samples: [97, 93]"
     ]
    }
   ],
   "source": [
    "model.predict_survival_function(X_train_processed)[0].x.__len__()"
   ]
  },
  {
   "cell_type": "code",
   "execution_count": 161,
   "id": "e690f18e-254f-466c-b697-61fffbbc912a",
   "metadata": {},
   "outputs": [
    {
     "name": "stderr",
     "output_type": "stream",
     "text": [
      "/home/carlos.hernandez/dl/lib/python3.8/site-packages/sksurv/linear_model/coxph.py:433: LinAlgWarning: Ill-conditioned matrix (rcond=4.66642e-17): result may not be accurate.\n",
      "  delta = solve(optimizer.hessian, optimizer.gradient,\n",
      "/home/carlos.hernandez/dl/lib/python3.8/site-packages/sksurv/linear_model/coxph.py:433: LinAlgWarning: Ill-conditioned matrix (rcond=6.05059e-17): result may not be accurate.\n",
      "  delta = solve(optimizer.hessian, optimizer.gradient,\n",
      "/home/carlos.hernandez/dl/lib/python3.8/site-packages/sksurv/linear_model/coxph.py:433: LinAlgWarning: Ill-conditioned matrix (rcond=4.04011e-17): result may not be accurate.\n",
      "  delta = solve(optimizer.hessian, optimizer.gradient,\n",
      "/home/carlos.hernandez/dl/lib/python3.8/site-packages/sksurv/linear_model/coxph.py:433: LinAlgWarning: Ill-conditioned matrix (rcond=5.05028e-17): result may not be accurate.\n",
      "  delta = solve(optimizer.hessian, optimizer.gradient,\n",
      "/home/carlos.hernandez/dl/lib/python3.8/site-packages/sksurv/linear_model/coxph.py:433: LinAlgWarning: Ill-conditioned matrix (rcond=4.54519e-17): result may not be accurate.\n",
      "  delta = solve(optimizer.hessian, optimizer.gradient,\n"
     ]
    }
   ],
   "source": [
    "import matplotlib.pyplot as plt\n",
    "model_2 = CoxPHSurvivalAnalysis()\n",
    "model_2.fit(X_train_processed, y_train)\n",
    "model_2.coef_ = b.value"
   ]
  },
  {
   "cell_type": "code",
   "execution_count": 162,
   "id": "e1f0e82e-8604-48d2-8d6b-e773a04b566c",
   "metadata": {},
   "outputs": [],
   "source": [
    "preds_cox      = model.predict_survival_function(X_test_t)\n",
    "preds_survlime = model_2.predict_survival_function(X_test_t)\n",
    "\n",
    "preds_cox_y  = [x.y for x in preds_cox]\n",
    "preds_surv_y = [x.y for x in preds_survlime]"
   ]
  },
  {
   "cell_type": "code",
   "execution_count": 163,
   "id": "818cdf81-308d-4640-9ffc-2254c08021ab",
   "metadata": {},
   "outputs": [],
   "source": [
    "len(preds_cox_y)\n",
    "prueba = np.mean(preds_cox_y, axis=0)\n",
    "prueba_surv = np.mean(preds_surv_y, axis=0)"
   ]
  },
  {
   "cell_type": "code",
   "execution_count": 186,
   "id": "ceb85d55-55c6-45b4-82a8-8260441ef345",
   "metadata": {},
   "outputs": [
    {
     "data": {
      "text/plain": [
       "pandas.core.frame.DataFrame"
      ]
     },
     "execution_count": 186,
     "metadata": {},
     "output_type": "execute_result"
    }
   ],
   "source": [
    "type(X_test_t)"
   ]
  },
  {
   "cell_type": "code",
   "execution_count": 181,
   "id": "d881e71e-6831-4b68-876f-28916f0ed8fa",
   "metadata": {},
   "outputs": [
    {
     "data": {
      "text/plain": [
       "<matplotlib.legend.Legend at 0x7f178090f0a0>"
      ]
     },
     "execution_count": 181,
     "metadata": {},
     "output_type": "execute_result"
    },
    {
     "data": {
      "image/png": "[encoded data removed]",
      "text/plain": [
       "<Figure size 432x288 with 1 Axes>"
      ]
     },
     "metadata": {
      "needs_background": "light"
     },
     "output_type": "display_data"
    }
   ],
   "source": [
    "plt.plot(prueba, label='CoxPH')\n",
    "plt.plot(prueba_surv, label='SurvLIME')\n",
    "plt.legend()\n"
   ]
  },
  {
   "cell_type": "code",
   "execution_count": 16,
   "id": "4e64d88a-d647-4127-a8d5-94edd5c9f1d5",
   "metadata": {},
   "outputs": [
    {
     "name": "stdout",
     "output_type": "stream",
     "text": [
      "The autoreload extension is already loaded. To reload it, use:\n",
      "  %reload_ext autoreload\n"
     ]
    },
    {
     "name": "stderr",
     "output_type": "stream",
     "text": [
      "/home/carlos.hernandez/dl/lib/python3.8/site-packages/sksurv/linear_model/coxph.py:433: LinAlgWarning: Ill-conditioned matrix (rcond=3.96842e-17): result may not be accurate.\n",
      "  delta = solve(optimizer.hessian, optimizer.gradient,\n",
      "/home/carlos.hernandez/dl/lib/python3.8/site-packages/sksurv/linear_model/coxph.py:433: LinAlgWarning: Ill-conditioned matrix (rcond=9.98832e-18): result may not be accurate.\n",
      "  delta = solve(optimizer.hessian, optimizer.gradient,\n",
      "/home/carlos.hernandez/dl/lib/python3.8/site-packages/sksurv/linear_model/coxph.py:433: LinAlgWarning: Ill-conditioned matrix (rcond=1.52627e-17): result may not be accurate.\n",
      "  delta = solve(optimizer.hessian, optimizer.gradient,\n",
      "/home/carlos.hernandez/dl/lib/python3.8/site-packages/sksurv/linear_model/coxph.py:433: LinAlgWarning: Ill-conditioned matrix (rcond=2.03557e-17): result may not be accurate.\n",
      "  delta = solve(optimizer.hessian, optimizer.gradient,\n"
     ]
    },
    {
     "ename": "NameError",
     "evalue": "name 'b' is not defined",
     "output_type": "error",
     "traceback": [
      "\u001b[0;31m---------------------------------------------------------------------------\u001b[0m",
      "\u001b[0;31mNameError\u001b[0m                                 Traceback (most recent call last)",
      "\u001b[0;32m/tmp/ipykernel_761052/2328978132.py\u001b[0m in \u001b[0;36m<module>\u001b[0;34m\u001b[0m\n\u001b[1;32m      3\u001b[0m \u001b[0;32mfrom\u001b[0m \u001b[0msurvLime\u001b[0m\u001b[0;34m.\u001b[0m\u001b[0mutils\u001b[0m\u001b[0;34m.\u001b[0m\u001b[0mgeneric_utils\u001b[0m \u001b[0;32mimport\u001b[0m \u001b[0mcompare_survival_times\u001b[0m\u001b[0;34m\u001b[0m\u001b[0;34m\u001b[0m\u001b[0m\n\u001b[1;32m      4\u001b[0m \u001b[0;34m\u001b[0m\u001b[0m\n\u001b[0;32m----> 5\u001b[0;31m \u001b[0mcompare_survival_times\u001b[0m\u001b[0;34m(\u001b[0m\u001b[0mmodel\u001b[0m\u001b[0;34m,\u001b[0m \u001b[0mb\u001b[0m\u001b[0;34m.\u001b[0m\u001b[0mvalue\u001b[0m\u001b[0;34m,\u001b[0m \u001b[0mX_train_processed\u001b[0m\u001b[0;34m,\u001b[0m \u001b[0my_train\u001b[0m\u001b[0;34m,\u001b[0m \u001b[0mX_test_t\u001b[0m\u001b[0;34m)\u001b[0m\u001b[0;34m\u001b[0m\u001b[0;34m\u001b[0m\u001b[0m\n\u001b[0m",
      "\u001b[0;32m~/PhD/SurvLIME/survLime/utils/generic_utils.py\u001b[0m in \u001b[0;36mcompare_survival_times\u001b[0;34m(bb_model, coefs, X_train, y_train, X_test)\u001b[0m\n\u001b[1;32m     26\u001b[0m     \u001b[0mmodel_interpretable\u001b[0m \u001b[0;34m=\u001b[0m \u001b[0mCoxPHSurvivalAnalysis\u001b[0m\u001b[0;34m(\u001b[0m\u001b[0;34m)\u001b[0m\u001b[0;34m\u001b[0m\u001b[0;34m\u001b[0m\u001b[0m\n\u001b[1;32m     27\u001b[0m     \u001b[0mmodel_interpretable\u001b[0m\u001b[0;34m.\u001b[0m\u001b[0mfit\u001b[0m\u001b[0;34m(\u001b[0m\u001b[0mX_train\u001b[0m\u001b[0;34m,\u001b[0m \u001b[0my_train\u001b[0m\u001b[0;34m)\u001b[0m\u001b[0;34m\u001b[0m\u001b[0;34m\u001b[0m\u001b[0m\n\u001b[0;32m---> 28\u001b[0;31m     \u001b[0mmodel_interpretable\u001b[0m\u001b[0;34m.\u001b[0m\u001b[0mcoef_\u001b[0m \u001b[0;34m=\u001b[0m \u001b[0mcoefs\u001b[0m\u001b[0;34m\u001b[0m\u001b[0;34m\u001b[0m\u001b[0m\n\u001b[0m\u001b[1;32m     29\u001b[0m \u001b[0;34m\u001b[0m\u001b[0m\n\u001b[1;32m     30\u001b[0m     \u001b[0mpreds_cox\u001b[0m      \u001b[0;34m=\u001b[0m \u001b[0mmodel\u001b[0m\u001b[0;34m.\u001b[0m\u001b[0mpredict_survival_function\u001b[0m\u001b[0;34m(\u001b[0m\u001b[0mX_test\u001b[0m\u001b[0;34m)\u001b[0m\u001b[0;34m\u001b[0m\u001b[0;34m\u001b[0m\u001b[0m\n",
      "\u001b[0;31mNameError\u001b[0m: name 'b' is not defined"
     ]
    }
   ],
   "source": []
  }
 ],
 "metadata": {
  "kernelspec": {
   "display_name": "Python 3 (ipykernel)",
   "language": "python",
   "name": "python3"
  },
  "language_info": {
   "codemirror_mode": {
    "name": "ipython",
    "version": 3
   },
   "file_extension": ".py",
   "mimetype": "text/x-python",
   "name": "python",
   "nbconvert_exporter": "python",
   "pygments_lexer": "ipython3",
   "version": "3.8.10"
  }
 },
 "nbformat": 4,
 "nbformat_minor": 5
}
