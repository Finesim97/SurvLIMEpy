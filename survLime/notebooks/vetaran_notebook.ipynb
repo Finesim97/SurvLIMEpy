{
 "cells": [
  {
   "cell_type": "code",
   "execution_count": 1,
   "id": "da5c81f3-09aa-4502-8281-03425a66e4fb",
   "metadata": {},
   "outputs": [],
   "source": [
    "%load_ext autoreload\n",
    "%autoreload 2\n",
    "\n",
    "import survLime\n",
    "from survLime.datasets import load_datasets\n",
    "from survLime import survlime_tabular\n",
    "\n",
    "import numpy as np\n",
    "from sksurv.util import Surv\n",
    "\n",
    "from sksurv.linear_model import CoxPHSurvivalAnalysis\n",
    "from sklearn.model_selection import train_test_split\n",
    "import pandas as pd\n",
    "from sklearn.preprocessing import OneHotEncoder, StandardScaler\n",
    "\n",
    "x,y = load_datasets.Loader('veteran')\n",
    "names = ['celltype_'+name for name in x.celltype.unique()]\n",
    "x[names] = pd.get_dummies(x.celltype)\n",
    "x.drop('celltype', inplace=True, axis=1)\n",
    "get_target = lambda df: df[['status','time']]"
   ]
  },
  {
   "cell_type": "code",
   "execution_count": null,
   "id": "7149ffd7-cd09-447a-bbe4-4e3fc73afa60",
   "metadata": {},
   "outputs": [],
   "source": []
  },
  {
   "cell_type": "code",
   "execution_count": 2,
   "id": "413e1285-2bdf-43a5-9f37-2fb1ba572799",
   "metadata": {},
   "outputs": [],
   "source": [
    "X_train, X_test, y_train, y_test = train_test_split(x.copy(), y, test_size=0.4, random_state=1)\n",
    "X_val, X_test, y_val, y_test = train_test_split(X_test.copy(), y_test, test_size=0.5, random_state=1)\n",
    "scaler = StandardScaler()\n",
    "\n",
    "X_train_processed = pd.DataFrame(data=scaler.fit_transform(X_train, y_train),\n",
    "                                 columns=X_train.columns, index=X_train.index)\n",
    "\n",
    "X_test_t = pd.DataFrame(data=scaler.transform(X_test),\n",
    "                                 columns=X_test.columns, index=X_test.index)\n",
    "\n",
    "#print(hasattr(scaler, \"n_features_in_\"))\n",
    "events_train = [x[0] for x in y_train]\n",
    "times_train  = [x[1] for x in y_train]\n",
    "\n",
    "events_val = [x[0] for x in y_val]\n",
    "times_val  = [x[1] for x in y_val]\n",
    "\n",
    "events_test = [x[0] for x in y_test]\n",
    "times_test  = [x[1] for x in y_test]\n",
    "\n",
    "y_train = Surv.from_arrays(events_train, times_train)\n",
    "y_val   = Surv.from_arrays(events_val, times_val)\n",
    "y_test  = Surv.from_arrays(events_test, times_test)\n"
   ]
  },
  {
   "cell_type": "code",
   "execution_count": 3,
   "id": "71507356-c616-4912-b6e6-b9d6c8672bd6",
   "metadata": {},
   "outputs": [
    {
     "name": "stderr",
     "output_type": "stream",
     "text": [
      "/home/carlos.hernandez/dl/lib/python3.8/site-packages/sksurv/linear_model/coxph.py:433: LinAlgWarning: Ill-conditioned matrix (rcond=3.96842e-17): result may not be accurate.\n",
      "  delta = solve(optimizer.hessian, optimizer.gradient,\n",
      "/home/carlos.hernandez/dl/lib/python3.8/site-packages/sksurv/linear_model/coxph.py:433: LinAlgWarning: Ill-conditioned matrix (rcond=9.98832e-18): result may not be accurate.\n",
      "  delta = solve(optimizer.hessian, optimizer.gradient,\n",
      "/home/carlos.hernandez/dl/lib/python3.8/site-packages/sksurv/linear_model/coxph.py:433: LinAlgWarning: Ill-conditioned matrix (rcond=1.52627e-17): result may not be accurate.\n",
      "  delta = solve(optimizer.hessian, optimizer.gradient,\n",
      "/home/carlos.hernandez/dl/lib/python3.8/site-packages/sksurv/linear_model/coxph.py:433: LinAlgWarning: Ill-conditioned matrix (rcond=2.03557e-17): result may not be accurate.\n",
      "  delta = solve(optimizer.hessian, optimizer.gradient,\n"
     ]
    },
    {
     "data": {
      "text/plain": [
       "0.7154696132596685"
      ]
     },
     "execution_count": 3,
     "metadata": {},
     "output_type": "execute_result"
    }
   ],
   "source": [
    "model = CoxPHSurvivalAnalysis()\n",
    "model.fit(X_train_processed, y_train)\n",
    "model.score(X_test_t.copy(), y_test)"
   ]
  },
  {
   "cell_type": "code",
   "execution_count": 4,
   "id": "93e2befe-6fab-48eb-8bdf-31e67d84037a",
   "metadata": {},
   "outputs": [],
   "source": [
    "def fill_matrix(total_times, matrix, event_times):\n",
    "    gl = []\n",
    "    for time in total_times:\n",
    "        if time in event_times:\n",
    "            time_index = event_times.index(time)\n",
    "            gl.append(matrix[time_index])\n",
    "        else:\n",
    "            gl.append(gl[-1])\n",
    "    return gl\n",
    "\n",
    "def kernel(d, kernel_width):\n",
    "    return np.sqrt(np.exp(-(d ** 2) / kernel_width ** 2)) "
   ]
  },
  {
   "cell_type": "code",
   "execution_count": 5,
   "id": "95486c0a-044c-433a-b333-182fba300aba",
   "metadata": {},
   "outputs": [
    {
     "name": "stderr",
     "output_type": "stream",
     "text": [
      "/home/carlos.hernandez/dl/lib/python3.8/site-packages/sklearn/base.py:450: UserWarning: X does not have valid feature names, but CoxPHSurvivalAnalysis was fitted with feature names\n",
      "  warnings.warn(\n"
     ]
    },
    {
     "data": {
      "text/plain": [
       "66"
      ]
     },
     "execution_count": 5,
     "metadata": {},
     "output_type": "execute_result"
    }
   ],
   "source": [
    "from sksurv.nonparametric import nelson_aalen_estimator\n",
    "from functools import partial\n",
    "import cvxpy as cp\n",
    "from math import log\n",
    "import timeit\n",
    "import sklearn\n",
    "\n",
    "Ho_t_ = nelson_aalen_estimator(events_train, times_train)[0] # Unique times [0]; CHF [1]\n",
    "\n",
    "num_pat = 500\n",
    "\n",
    "columns = X_test.columns.tolist()\n",
    "explainer = survlime_tabular.LimeTabularExplainer(X_train_processed, feature_names=columns, class_names=None,\n",
    "                                                   categorical_features=None, verbose=True, mode='regression', discretize_continuous=False)\n",
    "\n",
    "synthetic_data = explainer.data_inverse(X_test_t.iloc[0], num_pat) # At [0] we have the data and at [1]\n",
    "                                                        #the inverse, see what is this\n",
    "    \n",
    "# Third step: Obtain the prediction for the synthetic data \n",
    "H_i_j = model.predict_cumulative_hazard_function(synthetic_data[1]) # X_test_t -> [371, num_features]\n",
    "times_to_fill = list(set(times_train))\n",
    "H_i_j[0]\n",
    "H_i_j_wc = [fill_matrix(times_to_fill, x.y, list(x.x)) for x in H_i_j]\n",
    "len(nelson_aalen_estimator(events_train, times_train)[0])"
   ]
  },
  {
   "cell_type": "code",
   "execution_count": 6,
   "id": "c05a913e-3db0-4c69-aad4-94d780e53887",
   "metadata": {},
   "outputs": [],
   "source": [
    "kernel_fn = partial(kernel, kernel_width=5)\n",
    "\n",
    "# We need to do the line 362 from survlime_tabular (scale the data)\n",
    "scaled_data = synthetic_data[0]\n",
    "distances = sklearn.metrics.pairwise_distances(\n",
    "            scaled_data,\n",
    "            scaled_data[0].reshape(1,-1), # <-- Point of inquiry\n",
    "            metric = 'euclidean').ravel()\n",
    "weights = kernel_fn(distances)"
   ]
  },
  {
   "cell_type": "code",
   "execution_count": 7,
   "id": "852a7ea1-565b-4814-98de-7760c8b889eb",
   "metadata": {},
   "outputs": [
    {
     "data": {
      "text/plain": [
       "66"
      ]
     },
     "execution_count": 7,
     "metadata": {},
     "output_type": "execute_result"
    }
   ],
   "source": [
    "H_i_j_wc[0].__len__()\n",
    "H_i_j_wc[0].__len__()\n",
    "Ho_t_.__len__()"
   ]
  },
  {
   "cell_type": "code",
   "execution_count": 9,
   "id": "2297d8c7-965f-4cf8-959b-6fb8a413335d",
   "metadata": {},
   "outputs": [
    {
     "name": "stdout",
     "output_type": "stream",
     "text": [
      "time creating the cost list 4.890472266823053\n",
      "time summing the cost list 9.323433137498796\n",
      "===============================================================================\n",
      "                                     CVXPY                                     \n",
      "                                     v1.2.1                                    \n",
      "===============================================================================\n",
      "(CVXPY) Jul 20 10:21:33 AM: Your problem has 9 variables, 0 constraints, and 0 parameters.\n",
      "(CVXPY) Jul 20 10:21:36 AM: It is compliant with the following grammars: DCP, DQCP\n",
      "(CVXPY) Jul 20 10:21:36 AM: (If you need to solve this problem multiple times, but with different data, consider using parameters.)\n",
      "(CVXPY) Jul 20 10:21:36 AM: CVXPY will first compile your problem; then, it will invoke a numerical solver to obtain a solution.\n",
      "-------------------------------------------------------------------------------\n",
      "                                  Compilation                                  \n",
      "-------------------------------------------------------------------------------\n",
      "(CVXPY) Jul 20 10:21:38 AM: Compiling problem (target solver=OSQP).\n",
      "(CVXPY) Jul 20 10:21:38 AM: Reduction chain: CvxAttr2Constr -> Qp2SymbolicQp -> QpMatrixStuffing -> OSQP\n",
      "(CVXPY) Jul 20 10:21:38 AM: Applying reduction CvxAttr2Constr\n",
      "(CVXPY) Jul 20 10:21:38 AM: Applying reduction Qp2SymbolicQp\n",
      "(CVXPY) Jul 20 10:22:00 AM: Applying reduction QpMatrixStuffing\n",
      "(CVXPY) Jul 20 10:22:33 AM: Applying reduction OSQP\n",
      "(CVXPY) Jul 20 10:22:33 AM: Finished problem compilation (took 5.698e+01 seconds).\n",
      "-------------------------------------------------------------------------------\n",
      "                                Numerical solver                               \n",
      "-------------------------------------------------------------------------------\n",
      "(CVXPY) Jul 20 10:22:33 AM: Invoking solver OSQP  to obtain a solution.\n",
      "-----------------------------------------------------------------\n",
      "           OSQP v0.6.2  -  Operator Splitting QP Solver\n",
      "              (c) Bartolomeo Stellato,  Goran Banjac\n",
      "        University of Oxford  -  Stanford University 2021\n",
      "-----------------------------------------------------------------\n",
      "problem:  variables n = 33009, constraints m = 33000\n",
      "          nnz(P) + nnz(A) = 363000\n",
      "settings: linear system solver = qdldl,\n",
      "          eps_abs = 1.0e-05, eps_rel = 1.0e-05,\n",
      "          eps_prim_inf = 1.0e-04, eps_dual_inf = 1.0e-04,\n",
      "          rho = 1.00e-01 (adaptive),\n",
      "          sigma = 1.00e-06, alpha = 1.60, max_iter = 10000\n",
      "          check_termination: on (interval 25),\n",
      "          scaling: on, scaled_termination: off\n",
      "          warm start: on, polish: on, time_limit: off\n",
      "\n",
      "iter   objective    pri res    dua res    rho        time\n",
      "   1   0.0000e+00   5.87e+00   1.59e+06   1.00e-01   3.42e-02s\n",
      "  50   4.5917e+05   9.44e-08   2.14e-05   2.20e-03   9.98e-02s\n",
      "plsh   4.5917e+05   3.75e-15   1.53e-11   --------   1.25e-01s\n",
      "\n",
      "status:               solved\n",
      "solution polish:      successful\n",
      "number of iterations: 50\n",
      "optimal objective:    459171.9940\n",
      "run time:             1.25e-01s\n",
      "optimal rho estimate: 2.03e-04\n",
      "\n",
      "-------------------------------------------------------------------------------\n",
      "                                    Summary                                    \n",
      "-------------------------------------------------------------------------------\n",
      "(CVXPY) Jul 20 10:22:34 AM: Problem status: optimal\n",
      "(CVXPY) Jul 20 10:22:34 AM: Optimal value: 4.592e+05\n",
      "(CVXPY) Jul 20 10:22:34 AM: Compilation took 5.698e+01 seconds\n",
      "(CVXPY) Jul 20 10:22:34 AM: Solver (including time spent in interface) took 1.333e-01 seconds\n",
      "time solving the problem 61.667875146493316\n"
     ]
    },
    {
     "data": {
      "text/plain": [
       "array([-0.18420772, -0.40981409, -0.06208342,  0.31539932, -0.01130377,\n",
       "       -0.35335319,  0.07474481, -0.13545588,  0.64392186])"
      ]
     },
     "execution_count": 9,
     "metadata": {},
     "output_type": "execute_result"
    }
   ],
   "source": [
    "start_time = timeit.default_timer()\n",
    "# code you want to evaluate\n",
    "timeit.default_timer() - start_time\n",
    "\n",
    "epsilon = 0.00000001\n",
    "n = 9 # For now we are only using 3 features\n",
    "num_times = len(set(times_to_fill))\n",
    "b = cp.Variable(n)\n",
    "\n",
    "cost = [weights[k]*cp.square((log(H_i_j_wc[k][j]+epsilon) - log(Ho_t_[j]+epsilon) - b @ scaled_data[k]))\\\n",
    "        for k in range(num_pat) for j in range(num_times)] # *(times_to_fill[j+1]-times_to_fill[j]) \n",
    "#cost = [weights[k]*cp.norm((log(H_i_j_wc[k][j]+epsilon) - log(Ho_t_[j]+epsilon) - b @ scaled_data[k]),'inf') \\\n",
    "#                                            for k in range(num_pat) for j in range(num_times)]\n",
    "print(f'time creating the cost list {timeit.default_timer() - start_time}')\n",
    "\n",
    "start_time = timeit.default_timer()\n",
    "cost_sum = cp.sum(cost)\n",
    "\n",
    "print(f'time summing the cost list {timeit.default_timer() - start_time}')\n",
    "start_time = timeit.default_timer()\n",
    "\n",
    "prob = cp.Problem(cp.Minimize(cost_sum))\n",
    "\n",
    "\n",
    "opt_val = prob.solve(verbose=True)\n",
    "print(f'time solving the problem {timeit.default_timer() - start_time}')\n",
    "b.value"
   ]
  },
  {
   "cell_type": "code",
   "execution_count": 16,
   "id": "ce87d99f-1421-47a0-bece-1f0a2bd4b655",
   "metadata": {},
   "outputs": [
    {
     "data": {
      "text/plain": [
       "True"
      ]
     },
     "execution_count": 16,
     "metadata": {},
     "output_type": "execute_result"
    }
   ],
   "source": [
    "df = pd.DataFrame(columns=model.feature_names_in_, \n",
    "                  data=[b.value, model.coef_], index=['SurvLIME','CoxPH'])\n",
    "type(model)\n",
    "isinstance(model, CoxPHSurvivalAnalysis)"
   ]
  },
  {
   "cell_type": "code",
   "execution_count": 17,
   "id": "dbc30dda-f965-4460-99ce-d862cdca8c87",
   "metadata": {},
   "outputs": [
    {
     "name": "stdout",
     "output_type": "stream",
     "text": [
      " RMSE between the two curves is 0.075\n"
     ]
    },
    {
     "name": "stderr",
     "output_type": "stream",
     "text": [
      "/home/carlos.hernandez/dl/lib/python3.8/site-packages/sksurv/linear_model/coxph.py:433: LinAlgWarning: Ill-conditioned matrix (rcond=3.96842e-17): result may not be accurate.\n",
      "  delta = solve(optimizer.hessian, optimizer.gradient,\n",
      "/home/carlos.hernandez/dl/lib/python3.8/site-packages/sksurv/linear_model/coxph.py:433: LinAlgWarning: Ill-conditioned matrix (rcond=9.98832e-18): result may not be accurate.\n",
      "  delta = solve(optimizer.hessian, optimizer.gradient,\n",
      "/home/carlos.hernandez/dl/lib/python3.8/site-packages/sksurv/linear_model/coxph.py:433: LinAlgWarning: Ill-conditioned matrix (rcond=1.52627e-17): result may not be accurate.\n",
      "  delta = solve(optimizer.hessian, optimizer.gradient,\n",
      "/home/carlos.hernandez/dl/lib/python3.8/site-packages/sksurv/linear_model/coxph.py:433: LinAlgWarning: Ill-conditioned matrix (rcond=2.03557e-17): result may not be accurate.\n",
      "  delta = solve(optimizer.hessian, optimizer.gradient,\n"
     ]
    },
    {
     "data": {
      "image/png": "[encoded data removed]",
      "text/plain": [
       "<Figure size 432x288 with 1 Axes>"
      ]
     },
     "metadata": {
      "needs_background": "light"
     },
     "output_type": "display_data"
    },
    {
     "data": {
      "image/png": "[encoded data removed]",
      "text/plain": [
       "<Figure size 432x288 with 1 Axes>"
      ]
     },
     "metadata": {
      "needs_background": "light"
     },
     "output_type": "display_data"
    }
   ],
   "source": [
    "from survLime.utils.generic_utils import compare_survival_times\n",
    "\n",
    "compare_survival_times(model, b.value, X_train_processed, y_train, X_test_t)"
   ]
  },
  {
   "cell_type": "code",
   "execution_count": 183,
   "id": "7e4fda03-978a-4613-b858-e539ffac94a1",
   "metadata": {},
   "outputs": [
    {
     "data": {
      "text/plain": [
       "numpy.ndarray"
      ]
     },
     "execution_count": 183,
     "metadata": {},
     "output_type": "execute_result"
    },
    {
     "data": {
      "image/png": "[encoded data removed]",
      "text/plain": [
       "<Figure size 432x288 with 1 Axes>"
      ]
     },
     "metadata": {
      "needs_background": "light"
     },
     "output_type": "display_data"
    }
   ],
   "source": [
    "df.transpose().plot.bar()\n",
    "type(b.value)"
   ]
  },
  {
   "cell_type": "code",
   "execution_count": 161,
   "id": "e690f18e-254f-466c-b697-61fffbbc912a",
   "metadata": {},
   "outputs": [
    {
     "name": "stderr",
     "output_type": "stream",
     "text": [
      "/home/carlos.hernandez/dl/lib/python3.8/site-packages/sksurv/linear_model/coxph.py:433: LinAlgWarning: Ill-conditioned matrix (rcond=4.66642e-17): result may not be accurate.\n",
      "  delta = solve(optimizer.hessian, optimizer.gradient,\n",
      "/home/carlos.hernandez/dl/lib/python3.8/site-packages/sksurv/linear_model/coxph.py:433: LinAlgWarning: Ill-conditioned matrix (rcond=6.05059e-17): result may not be accurate.\n",
      "  delta = solve(optimizer.hessian, optimizer.gradient,\n",
      "/home/carlos.hernandez/dl/lib/python3.8/site-packages/sksurv/linear_model/coxph.py:433: LinAlgWarning: Ill-conditioned matrix (rcond=4.04011e-17): result may not be accurate.\n",
      "  delta = solve(optimizer.hessian, optimizer.gradient,\n",
      "/home/carlos.hernandez/dl/lib/python3.8/site-packages/sksurv/linear_model/coxph.py:433: LinAlgWarning: Ill-conditioned matrix (rcond=5.05028e-17): result may not be accurate.\n",
      "  delta = solve(optimizer.hessian, optimizer.gradient,\n",
      "/home/carlos.hernandez/dl/lib/python3.8/site-packages/sksurv/linear_model/coxph.py:433: LinAlgWarning: Ill-conditioned matrix (rcond=4.54519e-17): result may not be accurate.\n",
      "  delta = solve(optimizer.hessian, optimizer.gradient,\n"
     ]
    }
   ],
   "source": [
    "import matplotlib.pyplot as plt\n",
    "model_2 = CoxPHSurvivalAnalysis()\n",
    "model_2.fit(X_train_processed, y_train)\n",
    "model_2.coef_ = b.value"
   ]
  },
  {
   "cell_type": "code",
   "execution_count": 162,
   "id": "e1f0e82e-8604-48d2-8d6b-e773a04b566c",
   "metadata": {},
   "outputs": [],
   "source": [
    "preds_cox      = model.predict_survival_function(X_test_t)\n",
    "preds_survlime = model_2.predict_survival_function(X_test_t)\n",
    "\n",
    "preds_cox_y  = [x.y for x in preds_cox]\n",
    "preds_surv_y = [x.y for x in preds_survlime]"
   ]
  },
  {
   "cell_type": "code",
   "execution_count": 163,
   "id": "818cdf81-308d-4640-9ffc-2254c08021ab",
   "metadata": {},
   "outputs": [],
   "source": [
    "len(preds_cox_y)\n",
    "prueba = np.mean(preds_cox_y, axis=0)\n",
    "prueba_surv = np.mean(preds_surv_y, axis=0)"
   ]
  },
  {
   "cell_type": "code",
   "execution_count": 186,
   "id": "ceb85d55-55c6-45b4-82a8-8260441ef345",
   "metadata": {},
   "outputs": [
    {
     "data": {
      "text/plain": [
       "pandas.core.frame.DataFrame"
      ]
     },
     "execution_count": 186,
     "metadata": {},
     "output_type": "execute_result"
    }
   ],
   "source": [
    "type(X_test_t)"
   ]
  },
  {
   "cell_type": "code",
   "execution_count": 181,
   "id": "d881e71e-6831-4b68-876f-28916f0ed8fa",
   "metadata": {},
   "outputs": [
    {
     "data": {
      "text/plain": [
       "<matplotlib.legend.Legend at 0x7f178090f0a0>"
      ]
     },
     "execution_count": 181,
     "metadata": {},
     "output_type": "execute_result"
    },
    {
     "data": {
      "image/png": "[encoded data removed]",
      "text/plain": [
       "<Figure size 432x288 with 1 Axes>"
      ]
     },
     "metadata": {
      "needs_background": "light"
     },
     "output_type": "display_data"
    }
   ],
   "source": [
    "plt.plot(prueba, label='CoxPH')\n",
    "plt.plot(prueba_surv, label='SurvLIME')\n",
    "plt.legend()\n"
   ]
  },
  {
   "cell_type": "code",
   "execution_count": 16,
   "id": "4e64d88a-d647-4127-a8d5-94edd5c9f1d5",
   "metadata": {},
   "outputs": [
    {
     "name": "stdout",
     "output_type": "stream",
     "text": [
      "The autoreload extension is already loaded. To reload it, use:\n",
      "  %reload_ext autoreload\n"
     ]
    },
    {
     "name": "stderr",
     "output_type": "stream",
     "text": [
      "/home/carlos.hernandez/dl/lib/python3.8/site-packages/sksurv/linear_model/coxph.py:433: LinAlgWarning: Ill-conditioned matrix (rcond=3.96842e-17): result may not be accurate.\n",
      "  delta = solve(optimizer.hessian, optimizer.gradient,\n",
      "/home/carlos.hernandez/dl/lib/python3.8/site-packages/sksurv/linear_model/coxph.py:433: LinAlgWarning: Ill-conditioned matrix (rcond=9.98832e-18): result may not be accurate.\n",
      "  delta = solve(optimizer.hessian, optimizer.gradient,\n",
      "/home/carlos.hernandez/dl/lib/python3.8/site-packages/sksurv/linear_model/coxph.py:433: LinAlgWarning: Ill-conditioned matrix (rcond=1.52627e-17): result may not be accurate.\n",
      "  delta = solve(optimizer.hessian, optimizer.gradient,\n",
      "/home/carlos.hernandez/dl/lib/python3.8/site-packages/sksurv/linear_model/coxph.py:433: LinAlgWarning: Ill-conditioned matrix (rcond=2.03557e-17): result may not be accurate.\n",
      "  delta = solve(optimizer.hessian, optimizer.gradient,\n"
     ]
    },
    {
     "ename": "NameError",
     "evalue": "name 'b' is not defined",
     "output_type": "error",
     "traceback": [
      "\u001b[0;31m---------------------------------------------------------------------------\u001b[0m",
      "\u001b[0;31mNameError\u001b[0m                                 Traceback (most recent call last)",
      "\u001b[0;32m/tmp/ipykernel_761052/2328978132.py\u001b[0m in \u001b[0;36m<module>\u001b[0;34m\u001b[0m\n\u001b[1;32m      3\u001b[0m \u001b[0;32mfrom\u001b[0m \u001b[0msurvLime\u001b[0m\u001b[0;34m.\u001b[0m\u001b[0mutils\u001b[0m\u001b[0;34m.\u001b[0m\u001b[0mgeneric_utils\u001b[0m \u001b[0;32mimport\u001b[0m \u001b[0mcompare_survival_times\u001b[0m\u001b[0;34m\u001b[0m\u001b[0;34m\u001b[0m\u001b[0m\n\u001b[1;32m      4\u001b[0m \u001b[0;34m\u001b[0m\u001b[0m\n\u001b[0;32m----> 5\u001b[0;31m \u001b[0mcompare_survival_times\u001b[0m\u001b[0;34m(\u001b[0m\u001b[0mmodel\u001b[0m\u001b[0;34m,\u001b[0m \u001b[0mb\u001b[0m\u001b[0;34m.\u001b[0m\u001b[0mvalue\u001b[0m\u001b[0;34m,\u001b[0m \u001b[0mX_train_processed\u001b[0m\u001b[0;34m,\u001b[0m \u001b[0my_train\u001b[0m\u001b[0;34m,\u001b[0m \u001b[0mX_test_t\u001b[0m\u001b[0;34m)\u001b[0m\u001b[0;34m\u001b[0m\u001b[0;34m\u001b[0m\u001b[0m\n\u001b[0m",
      "\u001b[0;32m~/PhD/SurvLIME/survLime/utils/generic_utils.py\u001b[0m in \u001b[0;36mcompare_survival_times\u001b[0;34m(bb_model, coefs, X_train, y_train, X_test)\u001b[0m\n\u001b[1;32m     26\u001b[0m     \u001b[0mmodel_interpretable\u001b[0m \u001b[0;34m=\u001b[0m \u001b[0mCoxPHSurvivalAnalysis\u001b[0m\u001b[0;34m(\u001b[0m\u001b[0;34m)\u001b[0m\u001b[0;34m\u001b[0m\u001b[0;34m\u001b[0m\u001b[0m\n\u001b[1;32m     27\u001b[0m     \u001b[0mmodel_interpretable\u001b[0m\u001b[0;34m.\u001b[0m\u001b[0mfit\u001b[0m\u001b[0;34m(\u001b[0m\u001b[0mX_train\u001b[0m\u001b[0;34m,\u001b[0m \u001b[0my_train\u001b[0m\u001b[0;34m)\u001b[0m\u001b[0;34m\u001b[0m\u001b[0;34m\u001b[0m\u001b[0m\n\u001b[0;32m---> 28\u001b[0;31m     \u001b[0mmodel_interpretable\u001b[0m\u001b[0;34m.\u001b[0m\u001b[0mcoef_\u001b[0m \u001b[0;34m=\u001b[0m \u001b[0mcoefs\u001b[0m\u001b[0;34m\u001b[0m\u001b[0;34m\u001b[0m\u001b[0m\n\u001b[0m\u001b[1;32m     29\u001b[0m \u001b[0;34m\u001b[0m\u001b[0m\n\u001b[1;32m     30\u001b[0m     \u001b[0mpreds_cox\u001b[0m      \u001b[0;34m=\u001b[0m \u001b[0mmodel\u001b[0m\u001b[0;34m.\u001b[0m\u001b[0mpredict_survival_function\u001b[0m\u001b[0;34m(\u001b[0m\u001b[0mX_test\u001b[0m\u001b[0;34m)\u001b[0m\u001b[0;34m\u001b[0m\u001b[0;34m\u001b[0m\u001b[0m\n",
      "\u001b[0;31mNameError\u001b[0m: name 'b' is not defined"
     ]
    }
   ],
   "source": []
  }
 ],
 "metadata": {
  "kernelspec": {
   "display_name": "Python 3 (ipykernel)",
   "language": "python",
   "name": "python3"
  },
  "language_info": {
   "codemirror_mode": {
    "name": "ipython",
    "version": 3
   },
   "file_extension": ".py",
   "mimetype": "text/x-python",
   "name": "python",
   "nbconvert_exporter": "python",
   "pygments_lexer": "ipython3",
   "version": "3.8.10"
  }
 },
 "nbformat": 4,
 "nbformat_minor": 5
}
