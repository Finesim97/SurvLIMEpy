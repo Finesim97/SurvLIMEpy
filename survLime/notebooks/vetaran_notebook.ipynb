{
 "cells": [
  {
   "cell_type": "code",
   "execution_count": 1,
   "id": "da5c81f3-09aa-4502-8281-03425a66e4fb",
   "metadata": {},
   "outputs": [
    {
     "name": "stderr",
     "output_type": "stream",
     "text": [
      "/home/carlos.hernandez/dl/lib/python3.8/site-packages/pandas/core/series.py:4530: SettingWithCopyWarning: \n",
      "A value is trying to be set on a copy of a slice from a DataFrame\n",
      "\n",
      "See the caveats in the documentation: https://pandas.pydata.org/pandas-docs/stable/user_guide/indexing.html#returning-a-view-versus-a-copy\n",
      "  return super().fillna(\n"
     ]
    }
   ],
   "source": [
    "%load_ext autoreload\n",
    "%autoreload 2\n",
    "\n",
    "\n",
    "import numpy as np\n",
    "import pandas as pd\n",
    "\n",
    "from sksurv.util import Surv\n",
    "from sksurv.linear_model import CoxPHSurvivalAnalysis\n",
    "from sksurv.ensemble import RandomSurvivalForest\n",
    "from sklearn.model_selection import train_test_split\n",
    "from sklearn.preprocessing import OneHotEncoder, StandardScaler\n",
    "\n",
    "\n",
    "# Our very own survLime!\n",
    "import survLime\n",
    "from survLime.utils.generic_utils import fill_matrix_with_total_times\n",
    "from survLime.datasets.load_datasets import Loader \n",
    "from survLime import survlime_tabular\n",
    "\n",
    "\n",
    "loader = Loader(dataset_name='udca')\n",
    "x,events, times = loader.load_data()"
   ]
  },
  {
   "cell_type": "code",
   "execution_count": null,
   "id": "7149ffd7-cd09-447a-bbe4-4e3fc73afa60",
   "metadata": {},
   "outputs": [],
   "source": []
  },
  {
   "cell_type": "code",
   "execution_count": 2,
   "id": "413e1285-2bdf-43a5-9f37-2fb1ba572799",
   "metadata": {},
   "outputs": [],
   "source": [
    "train, val, test = loader.preprocess_datasets(x, events, times)\n",
    "events_train = [x[0] for x in train[1]]\n",
    "times_train  = [x[1] for x in train[1]]\n",
    "\n",
    "events_val = [x[0] for x in val[1]]\n",
    "times_val  = [x[1] for x in val[1]]\n",
    "\n",
    "events_test = [x[0] for x in test[1]]\n",
    "times_test  = [x[1] for x in test[1]]"
   ]
  },
  {
   "cell_type": "code",
   "execution_count": 3,
   "id": "71507356-c616-4912-b6e6-b9d6c8672bd6",
   "metadata": {},
   "outputs": [
    {
     "data": {
      "text/plain": [
       "0.7971014492753623"
      ]
     },
     "execution_count": 3,
     "metadata": {},
     "output_type": "execute_result"
    }
   ],
   "source": [
    "model = CoxPHSurvivalAnalysis()\n",
    "#model = RandomSurvivalForest()\n",
    "model.fit(train[0], train[1])\n",
    "model.score(test[0], test[1])"
   ]
  },
  {
   "cell_type": "code",
   "execution_count": 33,
   "id": "93e2befe-6fab-48eb-8bdf-31e67d84037a",
   "metadata": {},
   "outputs": [],
   "source": [
    "def kernel(d, kernel_width):\n",
    "    return np.sqrt(np.exp(-(d ** 2) / kernel_width ** 2)) "
   ]
  },
  {
   "cell_type": "code",
   "execution_count": 34,
   "id": "95486c0a-044c-433a-b333-182fba300aba",
   "metadata": {},
   "outputs": [
    {
     "name": "stderr",
     "output_type": "stream",
     "text": [
      "/home/carlos.hernandez/dl/lib/python3.8/site-packages/sklearn/base.py:450: UserWarning: X does not have valid feature names, but CoxPHSurvivalAnalysis was fitted with feature names\n",
      "  warnings.warn(\n"
     ]
    }
   ],
   "source": [
    "from sksurv.nonparametric import nelson_aalen_estimator\n",
    "from functools import partial\n",
    "import cvxpy as cp\n",
    "from math import log\n",
    "import timeit\n",
    "import sklearn\n",
    "\n",
    "# Step one\n",
    "Ho_t_ = nelson_aalen_estimator(events_train, times_train)[0] # Unique times [0]; CHF [1]\n",
    "\n",
    "columns = test[0].columns.tolist()\n",
    "num_pat = 500\n",
    "\n",
    "# Step two\n",
    "explainer = survlime_tabular.LimeTabularExplainer(train[0], target_data=train[1], feature_names=columns, class_names=None,\n",
    "                                                   categorical_features=None, verbose=True, mode='regression', discretize_continuous=False)\n",
    "\n",
    "synthetic_data = explainer.data_inverse(test[0].iloc[0], num_pat) # At [0] we have the data and at [1]\n",
    "                                                        #the inverse, see what is this\n",
    "    \n",
    "# Third step: Obtain the prediction for the synthetic data \n",
    "H_i_j = model.predict_cumulative_hazard_function(synthetic_data[1]) # X_test_t -> [371, num_features]\n",
    "\n",
    "times_to_fill = list(set(times_train)); times_to_fill.sort()\n",
    "\n",
    "\n",
    "#Ho_t_ = [fill_matrix_with_total_times(times_to_fill, times_train, list(x.x)) for x in Ho_t_]\n",
    "H_i_j_wc = [fill_matrix_with_total_times(times_to_fill, x.y, list(x.x)) for x in H_i_j]"
   ]
  },
  {
   "cell_type": "markdown",
   "id": "62900c02-0dae-4a79-86a4-54f35d184c9b",
   "metadata": {},
   "source": [
    "## Code trials to have it all on the explainer\n"
   ]
  },
  {
   "cell_type": "code",
   "execution_count": 60,
   "id": "5701b03f-f6a6-4250-aa3a-0dd34d186cef",
   "metadata": {},
   "outputs": [
    {
     "data": {
      "text/plain": [
       "98"
      ]
     },
     "execution_count": 60,
     "metadata": {},
     "output_type": "execute_result"
    }
   ],
   "source": [
    "\n",
    "new = []\n",
    "log_correction = [np.divide(np.array(x), np.log(np.array(x)+0.0001)) for x in H_i_j_wc]\n",
    "#H_i_j_wc, weights, log_correction, H_i_j_wc, H0_t_, scaled_data = explainer.explain_instance("
   ]
  },
  {
   "cell_type": "code",
   "execution_count": 36,
   "id": "c05a913e-3db0-4c69-aad4-94d780e53887",
   "metadata": {},
   "outputs": [],
   "source": [
    "kernel_fn = partial(kernel, kernel_width=5)\n",
    "\n",
    "# We need to do the line 362 from survlime_tabular (scale the data)\n",
    "scaled_data = synthetic_data[0] # We need to scale this\n",
    "scaled_data_ = (scaled_data - explainer.scaler.mean_) / explainer.scaler.scale_\n",
    "distances = sklearn.metrics.pairwise_distances(\n",
    "            scaled_data,\n",
    "            scaled_data[0].reshape(1,-1), # <-- Point of inquiry\n",
    "            metric = 'euclidean').ravel()\n",
    "weights = kernel_fn(distances)"
   ]
  },
  {
   "cell_type": "code",
   "execution_count": 15,
   "id": "852a7ea1-565b-4814-98de-7760c8b889eb",
   "metadata": {},
   "outputs": [
    {
     "name": "stderr",
     "output_type": "stream",
     "text": [
      "/home/carlos.hernandez/dl/lib/python3.8/site-packages/sklearn/base.py:450: UserWarning: X does not have valid feature names, but CoxPHSurvivalAnalysis was fitted with feature names\n",
      "  warnings.warn(\n"
     ]
    }
   ],
   "source": [
    "# Step two\n",
    "from sksurv.nonparametric import nelson_aalen_estimator\n",
    "from functools import partial\n",
    "import cvxpy as cp\n",
    "from math import log\n",
    "import timeit\n",
    "import sklearn\n",
    "\n",
    "times_to_fill = list(set(times_train)); times_to_fill.sort()\n",
    "columns = test[0].columns.tolist()\n",
    "num_pat = 500\n",
    "\n",
    "explainer = survlime_tabular.LimeTabularExplainer(train[0], target_data=train[1], feature_names=columns, class_names=None,\n",
    "                                                   categorical_features=None, verbose=True, mode='regression', discretize_continuous=False)\n",
    "\n",
    "H_i_j_wc, weights, log_correction, H_i_j_wc, Ho_t_, scaled_data = \\\n",
    "                    explainer.explain_instance(test[0].iloc[0], model.predict_survival_function)"
   ]
  },
  {
   "cell_type": "code",
   "execution_count": 23,
   "id": "b1e6d170-4e69-4649-8440-a6965b4e2808",
   "metadata": {},
   "outputs": [
    {
     "name": "stdout",
     "output_type": "stream",
     "text": [
      "===============================================================================\n",
      "                                     CVXPY                                     \n",
      "                                     v1.2.1                                    \n",
      "===============================================================================\n",
      "(CVXPY) Aug 03 04:50:02 PM: Your problem has 4 variables, 0 constraints, and 0 parameters.\n",
      "(CVXPY) Aug 03 04:50:02 PM: It is compliant with the following grammars: DCP, DQCP\n",
      "(CVXPY) Aug 03 04:50:02 PM: (If you need to solve this problem multiple times, but with different data, consider using parameters.)\n",
      "(CVXPY) Aug 03 04:50:02 PM: CVXPY will first compile your problem; then, it will invoke a numerical solver to obtain a solution.\n",
      "-------------------------------------------------------------------------------\n",
      "                                  Compilation                                  \n",
      "-------------------------------------------------------------------------------\n",
      "(CVXPY) Aug 03 04:50:02 PM: Using cached ASA map, for faster compilation (bypassing reduction chain).\n",
      "(CVXPY) Aug 03 04:50:02 PM: Finished problem compilation (took 8.696e-03 seconds).\n",
      "-------------------------------------------------------------------------------\n",
      "                                Numerical solver                               \n",
      "-------------------------------------------------------------------------------\n",
      "(CVXPY) Aug 03 04:50:02 PM: Invoking solver ECOS  to obtain a solution.\n",
      "023e+17  +7.023e+17  +6e+08  1e-01  2e-04  2e+12  1e+04  0.0001  8e-01   0  0  0 |  0  0\n",
      "89  +7.023e+17  +7.023e+17  +6e+08  1e-01  2e-04  2e+12  1e+04  0.0001  8e-01   0  0  0 |  0  0\n",
      "90  +7.023e+17  +7.023e+17  +6e+08  1e-01  2e-04  2e+12  1e+04  0.0001  8e-01   0  0  0 |  0  0\n",
      "91  +7.023e+17  +7.023e+17  +6e+08  1e-01  2e-04  2e+12  1e+04  0.0001  8e-01   0  0  0 |  0  0\n",
      "92  +7.023e+17  +7.023e+17  +6e+08  1e-01  2e-04  2e+12  1e+04  0.0001  8e-01   0  0  0 |  0  0\n",
      "93  +7.023e+17  +7.023e+17  +6e+08  1e-01  2e-04  2e+12  1e+04  0.0001  8e-01   0  0  0 |  0  0\n",
      "94  +7.023e+17  +7.023e+17  +6e+08  1e-01  2e-04  2e+12  1e+04  0.0001  8e-01   0  0  0 |  0  0\n",
      "95  +7.023e+17  +7.023e+17  +6e+08  1e-01  2e-04  2e+12  1e+04  0.0001  8e-01   0  0  0 |  0  0\n",
      "96  +7.023e+17  +7.023e+17  +6e+08  1e-01  2e-04  2e+12  1e+04  0.0002  8e-01   0  0  0 |  0  0\n",
      "97  +7.024e+17  +7.024e+17  +6e+08  1e-01  2e-04  2e+12  1e+04  0.0002  8e-01   0  0  0 |  0  0\n",
      "98  +7.024e+17  +7.024e+17  +6e+08  1e-01  2e-04  2e+12  1e+04  0.0001  8e-01   0  0  0 |  0  0\n",
      "99  +7.024e+17  +7.024e+17  +6e+08  1e-01  2e-04  2e+12  1e+04  0.0001  8e-01   0  0  0 |  0  0\n",
      "100  +7.024e+17  +7.024e+17  +6e+08  1e-01  2e-04  2e+12  1e+04  0.0002  8e-01   0  0  0 |  0  0\n",
      "Maximum number of iterations reached, stopping.\n",
      "\n",
      "Close to PRIMAL INFEASIBLE (within feastol=2.2e-07).\n",
      "Runtime: 12.942115 seconds.\n",
      "\n",
      "\n",
      "ECOS 2.0.10 - (C) embotech GmbH, Zurich Switzerland, 2012-15. Web: www.embotech.com/ECOS\n",
      "\n",
      "It     pcost       dcost      gap   pres   dres    k/t    mu     step   sigma     IR    |   BT\n",
      " 0  +8.200e-14  -5.141e+03  +3e+14  9e-01  4e-05  1e+00  5e+09    ---    ---    2  1  - |  -  - \n",
      " 1  +4.490e+08  +4.491e+08  +3e+14  9e-01  4e-05  9e+04  5e+09  0.0000  1e+00   2  1  1 |  0  0\n",
      " 2  +9.582e+10  +9.626e+10  +3e+14  1e-01  2e-04  4e+08  5e+09  0.0803  1e+00   2  2  1 |  0  0\n",
      " 3  +2.051e+12  +2.062e+12  +3e+14  5e-02  2e-03  1e+10  6e+09  0.9424  9e-01   2  1  1 |  0  0\n",
      " 4  +3.642e+12  +3.653e+12  +2e+14  5e-02  2e-03  1e+10  5e+09  0.2416  6e-01   1  1  1 |  0  0\n",
      " 5  +9.984e+12  +9.991e+12  +1e+14  2e-02  4e-04  7e+09  2e+09  0.7538  3e-01   1  1  1 |  0  0\n",
      " 6  +1.870e+13  +1.871e+13  +1e+14  2e-02  4e-04  8e+09  2e+09  0.1190  8e-01   1  1  2 |  0  0\n",
      " 7  +5.590e+13  +5.591e+13  +9e+13  2e-02  2e-04  1e+10  2e+09  0.3396  4e-01   1  1  1 |  0  0\n",
      " 8  +5.884e+13  +5.885e+13  +9e+13  2e-02  2e-04  1e+10  2e+09  0.0247  9e-01   2  1  2 |  0  0\n",
      " 9  +8.954e+13  +8.955e+13  +8e+13  3e-02  2e-04  1e+10  2e+09  0.2995  5e-01   2  1  1 |  0  0\n",
      "10  +1.643e+14  +1.643e+14  +5e+13  2e-02  1e-04  1e+10  1e+09  0.5217  4e-01   2  1  1 |  0  0\n",
      "11  +1.987e+14  +1.987e+14  +5e+13  2e-02  1e-04  2e+10  1e+09  0.3117  6e-01   2  1  1 |  0  0\n",
      "12  +3.721e+14  +3.722e+14  +3e+13  2e-02  7e-05  2e+10  5e+08  0.7376  4e-01   3  1  1 |  0  0\n",
      "13  +3.908e+14  +3.908e+14  +2e+13  2e-02  7e-05  2e+10  5e+08  0.1758  7e-01   2  2  2 |  0  0\n",
      "14  +4.893e+14  +4.893e+14  +2e+13  2e-02  7e-05  2e+10  4e+08  0.5080  5e-01   3  2  2 |  0  0\n",
      "15  +5.604e+14  +5.604e+14  +2e+13  2e-02  8e-05  2e+10  3e+08  0.3499  5e-01   2  2  2 |  0  0\n",
      "16  +6.964e+14  +6.964e+14  +1e+13  2e-02  9e-05  3e+10  2e+08  0.3705  3e-01   3  2  2 |  0  0\n",
      "17  +6.960e+14  +6.960e+14  +1e+13  2e-02  8e-05  3e+10  2e+08  0.0144  9e-01   3  2  2 |  0  0\n",
      "18  +7.948e+14  +7.948e+14  +9e+12  1e-02  8e-05  3e+10  2e+08  0.6381  7e-01   2  2  2 |  0  0\n",
      "19  +1.116e+15  +1.116e+15  +6e+12  1e-02  1e-04  3e+10  1e+08  0.4586  2e-01   2  2  2 |  0  0\n",
      "20  +1.116e+15  +1.116e+15  +6e+12  1e-02  1e-04  3e+10  1e+08  0.0214  9e-01   3  2  2 |  0  0\n",
      "21  +1.758e+15  +1.758e+15  +3e+12  9e-03  1e-04  5e+10  6e+07  0.9887  5e-01   3  2  2 |  0  0\n",
      "22  +2.900e+15  +2.900e+15  +1e+12  7e-03  2e-04  6e+10  3e+07  0.7393  3e-01   3  2  2 |  0  0\n",
      "23  +2.918e+15  +2.918e+15  +1e+12  7e-03  2e-04  6e+10  3e+07  0.0384  8e-01   3  2  3 |  0  0\n",
      "24  +3.998e+15  +3.998e+15  +9e+11  6e-03  2e-04  7e+10  2e+07  0.9470  6e-01   3  2  2 |  0  0\n",
      "25  +5.525e+15  +5.525e+15  +5e+11  5e-03  2e-04  8e+10  1e+07  0.5231  2e-01   3  2  2 |  0  0\n",
      "26  +5.540e+15  +5.541e+15  +5e+11  5e-03  2e-04  8e+10  1e+07  0.0338  9e-01   2  2  2 |  0  0\n",
      "27  +7.231e+15  +7.231e+15  +4e+11  4e-03  2e-04  9e+10  7e+06  0.5804  3e-01   3  2  2 |  0  0\n",
      "28  +7.602e+15  +7.602e+15  +4e+11  5e-03  1e-04  1e+11  8e+06  0.0238  1e+00   3  2  2 |  0  0\n",
      "29  +7.624e+15  +7.624e+15  +4e+11  5e-03  1e-04  1e+11  8e+06  0.0126  9e-01   4  3  3 |  0  0\n",
      "30  +1.034e+16  +1.034e+16  +3e+11  5e-03  1e-04  2e+11  7e+06  0.6135  7e-01   4  3  3 |  0  0\n",
      "31  +1.520e+16  +1.520e+16  +2e+11  5e-03  1e-04  3e+11  4e+06  0.5980  3e-01   5  3  3 |  0  0\n",
      "32  +1.936e+16  +1.936e+16  +1e+11  4e-03  2e-04  4e+11  3e+06  0.5272  5e-01   5  4  3 |  0  0\n",
      "33  +1.937e+16  +1.937e+16  +1e+11  4e-03  2e-04  4e+11  3e+06  0.0065  9e-01   5  4  4 |  0  0\n",
      "34  +2.119e+16  +2.119e+16  +1e+11  4e-03  2e-04  5e+11  2e+06  0.7559  8e-01   6  4  3 |  0  0\n",
      "35  +2.495e+16  +2.495e+16  +9e+10  4e-03  2e-04  5e+11  2e+06  0.3972  5e-01   6  5  5 |  0  0\n",
      "36  +2.505e+16  +2.505e+16  +9e+10  4e-03  2e-04  5e+11  2e+06  0.0105  1e+00   7  5  6 |  0  0\n",
      "37  +3.524e+16  +3.524e+16  +6e+10  3e-03  3e-04  7e+11  1e+06  0.9042  6e-01   7  5  5 |  0  0\n",
      "38  +3.627e+16  +3.627e+16  +6e+10  3e-03  2e-04  7e+11  1e+06  0.1449  9e-01   8  6  6 |  0  0\n",
      "39  +5.885e+16  +5.885e+16  +3e+10  3e-03  3e-04  1e+12  6e+05  0.6233  2e-01   7  6  6 |  0  0\n",
      "40  +6.443e+16  +6.443e+16  +3e+10  3e-03  4e-04  1e+12  5e+05  0.4247  7e-01   8  6  7 |  0  0\n",
      "41  +6.446e+16  +6.447e+16  +3e+10  3e-03  4e-04  1e+12  5e+05  0.0033  1e+00   9  7  7 |  0  0\n",
      "42  +6.722e+16  +6.722e+16  +3e+10  3e-03  5e-04  1e+12  6e+05  0.1632  9e-01   8  7  6 |  0  0\n",
      "43  +7.429e+16  +7.429e+16  +2e+10  3e-03  5e-04  1e+12  5e+05  0.3581  6e-01   7  5  5 |  0  0\n",
      "44  +7.499e+16  +7.499e+16  +2e+10  3e-03  5e-04  1e+12  5e+05  0.0216  9e-01   9  7  7 |  0  0\n",
      "45  +1.140e+17  +1.140e+17  +1e+10  2e-03  6e-04  2e+12  3e+05  0.6745  3e-01   8  6  6 |  0  0\n",
      "46  +1.428e+17  +1.428e+17  +9e+09  2e-03  6e-04  2e+12  2e+05  0.6366  5e-01   8  6  6 |  0  0\n",
      "47  +1.441e+17  +1.441e+17  +9e+09  2e-03  6e-04  2e+12  2e+05  0.0206  9e-01   9  8  8 |  0  0\n",
      "48  +1.640e+17  +1.640e+17  +7e+09  2e-03  5e-04  2e+12  2e+05  0.5345  7e-01   9  8  7 |  0  0\n",
      "49  +2.267e+17  +2.267e+17  +4e+09  1e-03  6e-04  2e+12  9e+04  0.6010  2e-01   9  7  7 |  0  0\n",
      "50  +2.299e+17  +2.299e+17  +5e+09  1e-03  8e-04  2e+12  1e+05  0.1122  1e+00   9  8  6 |  0  0\n",
      "51  +3.155e+17  +3.155e+17  +3e+09  1e-03  6e-04  2e+12  6e+04  0.6317  3e-01   9  8  7 |  0  0\n",
      "52  +4.285e+17  +4.285e+17  +1e+09  7e-04  5e-04  2e+12  3e+04  0.6620  2e-01   9  8  7 |  0  0\n",
      "53  +4.313e+17  +4.313e+17  +1e+09  7e-04  4e-04  2e+12  3e+04  0.1003  9e-01   1  1  6 |  0  0\n",
      "54  +5.602e+17  +5.602e+17  +9e+08  5e-04  3e-04  2e+12  2e+04  0.6883  3e-01   9  8  6 |  0  0\n",
      "55  +6.719e+17  +6.719e+17  +6e+08  3e-04  3e-04  2e+12  1e+04  0.5750  3e-01   9  7  5 |  0  0\n",
      "56  +6.718e+17  +6.718e+17  +6e+08  3e-04  3e-04  2e+12  1e+04  0.0231  9e-01   4  4  0 |  0  0\n",
      "57  +7.021e+17  +7.021e+17  +6e+08  3e-04  2e-04  2e+12  1e+04  0.3422  5e-01   4  3  0 |  0  0\n",
      "58  +7.021e+17  +7.021e+17  +6e+08  2e-02  2e-04  2e+12  1e+04  0.0001  9e-01   0  0  0 |  0  0\n",
      "59  +7.021e+17  +7.021e+17  +6e+08  2e-02  2e-04  2e+12  1e+04  0.0001  9e-01   0  0  0 |  0  0\n",
      "60  +7.021e+17  +7.021e+17  +6e+08  3e-02  2e-04  2e+12  1e+04  0.0001  9e-01   0  0  0 |  0  0\n",
      "61  +7.021e+17  +7.021e+17  +6e+08  3e-02  2e-04  2e+12  1e+04  0.0001  8e-01   0  0  0 |  0  0\n",
      "62  +7.021e+17  +7.021e+17  +6e+08  4e-02  2e-04  2e+12  1e+04  0.0001  8e-01   0  0  0 |  0  0\n",
      "63  +7.021e+17  +7.021e+17  +6e+08  4e-02  2e-04  2e+12  1e+04  0.0001  8e-01   0  0  0 |  0  0\n",
      "64  +7.021e+17  +7.021e+17  +6e+08  4e-02  2e-04  2e+12  1e+04  0.0001  8e-01   0  0  0 |  0  0\n",
      "65  +7.021e+17  +7.021e+17  +6e+08  5e-02  2e-04  2e+12  1e+04  0.0001  8e-01   0  0  0 |  0  0\n",
      "66  +7.021e+17  +7.021e+17  +6e+08  5e-02  2e-04  2e+12  1e+04  0.0001  8e-01   0  0  0 |  0  0\n",
      "67  +7.021e+17  +7.021e+17  +6e+08  5e-02  2e-04  2e+12  1e+04  0.0001  8e-01   0  0  0 |  0  0\n",
      "68  +7.022e+17  +7.022e+17  +6e+08  5e-02  2e-04  2e+12  1e+04  0.0001  8e-01   0  0  0 |  0  0\n",
      "69  +7.0-------------------------------------------------------------------------------\n",
      "                                    Summary                                    \n",
      "-------------------------------------------------------------------------------\n",
      "(CVXPY) Aug 03 04:50:15 PM: Problem status: infeasible_inaccurate\n",
      "(CVXPY) Aug 03 04:50:15 PM: Optimal value: inf\n",
      "(CVXPY) Aug 03 04:50:15 PM: Compilation took 8.696e-03 seconds\n",
      "(CVXPY) Aug 03 04:50:15 PM: Solver (including time spent in interface) took 1.288e+01 seconds\n"
     ]
    }
   ],
   "source": [
    "opt_val = prob.solve(verbose=True, solver=cp.ECOS)\n"
   ]
  },
  {
   "cell_type": "code",
   "execution_count": 17,
   "id": "2297d8c7-965f-4cf8-959b-6fb8a413335d",
   "metadata": {},
   "outputs": [
    {
     "name": "stdout",
     "output_type": "stream",
     "text": [
      "time creating the cost list 20.725278034995426\n",
      "time summing the cost list 41.673555597000814\n",
      "===============================================================================\n",
      "                                     CVXPY                                     \n",
      "                                     v1.2.1                                    \n",
      "===============================================================================\n",
      "(CVXPY) Aug 03 04:38:02 PM: Your problem has 4 variables, 0 constraints, and 0 parameters.\n",
      "(CVXPY) Aug 03 04:38:08 PM: It is compliant with the following grammars: DCP, DQCP\n",
      "(CVXPY) Aug 03 04:38:08 PM: (If you need to solve this problem multiple times, but with different data, consider using parameters.)\n",
      "(CVXPY) Aug 03 04:38:08 PM: CVXPY will first compile your problem; then, it will invoke a numerical solver to obtain a solution.\n",
      "-------------------------------------------------------------------------------\n",
      "                                  Compilation                                  \n",
      "-------------------------------------------------------------------------------\n",
      "(CVXPY) Aug 03 04:38:14 PM: Compiling problem (target solver=OSQP).\n",
      "(CVXPY) Aug 03 04:38:14 PM: Reduction chain: CvxAttr2Constr -> Qp2SymbolicQp -> QpMatrixStuffing -> OSQP\n",
      "(CVXPY) Aug 03 04:38:14 PM: Applying reduction CvxAttr2Constr\n",
      "(CVXPY) Aug 03 04:38:14 PM: Applying reduction Qp2SymbolicQp\n",
      "(CVXPY) Aug 03 04:39:13 PM: Applying reduction QpMatrixStuffing\n",
      "(CVXPY) Aug 03 04:41:33 PM: Applying reduction OSQP\n",
      "(CVXPY) Aug 03 04:41:33 PM: Finished problem compilation (took 2.058e+02 seconds).\n",
      "-------------------------------------------------------------------------------\n",
      "                                Numerical solver                               \n",
      "-------------------------------------------------------------------------------\n",
      "(CVXPY) Aug 03 04:41:33 PM: Invoking solver OSQP  to obtain a solution.\n",
      "-----------------------------------------------------------------\n",
      "           OSQP v0.6.2  -  Operator Splitting QP Solver\n",
      "              (c) Bartolomeo Stellato,  Goran Banjac\n",
      "        University of Oxford  -  Stanford University 2021\n",
      "-----------------------------------------------------------------\n",
      "problem:  variables n = 48004, constraints m = 48000\n",
      "          nnz(P) + nnz(A) = 288000\n",
      "settings: linear system solver = qdldl,\n",
      "          eps_abs = 1.0e-05, eps_rel = 1.0e-05,\n",
      "          eps_prim_inf = 1.0e-04, eps_dual_inf = 1.0e-04,\n",
      "          rho = 1.00e-01 (adaptive),\n",
      "          sigma = 1.00e-06, alpha = 1.60, max_iter = 10000\n",
      "          check_termination: on (interval 25),\n",
      "          scaling: on, scaled_termination: off\n",
      "          warm start: on, polish: on, time_limit: off\n",
      "\n",
      "iter   objective    pri res    dua res    rho        time\n",
      "   1   0.0000e+00   4.62e+13   1.04e+19   1.00e-01   2.81e-02s\n",
      " 200   3.4698e+24   1.38e+13   1.34e+11   1.00e+06   2.30e-01s\n",
      " 400   5.6677e+24   1.45e+13   1.31e+11   1.00e+06   4.22e-01s\n",
      " 600   7.3207e+24   1.39e+13   9.41e+10   1.00e+06   6.14e-01s\n",
      " 800   9.0627e+24   1.32e+13   4.02e+11   1.00e+06   8.07e-01s\n",
      "1000   1.0989e+25   1.24e+13   3.23e+11   1.00e+06   9.98e-01s\n",
      "1200   1.3085e+25   1.16e+13   3.31e+11   1.00e+06   1.19e+00s\n",
      "1400   1.5313e+25   1.09e+13   9.51e+11   1.00e+06   1.38e+00s\n",
      "1600   1.7635e+25   1.03e+13   8.74e+11   1.00e+06   1.58e+00s\n",
      "1800   2.0019e+25   9.65e+12   5.24e+11   1.00e+06   1.77e+00s\n",
      "2000   2.2439e+25   9.08e+12   1.28e+12   1.00e+06   1.96e+00s\n",
      "2200   2.4871e+25   8.55e+12   1.06e+12   1.00e+06   2.15e+00s\n",
      "2400   2.7301e+25   8.06e+12   3.20e+11   1.00e+06   2.35e+00s\n",
      "2600   2.9713e+25   7.60e+12   5.50e+11   1.00e+06   2.54e+00s\n",
      "2800   3.2097e+25   7.17e+12   8.20e+11   1.00e+06   2.73e+00s\n",
      "3000   3.4445e+25   6.77e+12   7.20e+11   1.00e+06   2.92e+00s\n",
      "3200   3.6751e+25   6.40e+12   7.14e+11   1.00e+06   3.11e+00s\n",
      "3400   3.9008e+25   6.05e+12   1.07e+12   1.00e+06   3.31e+00s\n",
      "3600   4.1214e+25   5.73e+12   8.93e+11   1.00e+06   3.50e+00s\n",
      "3800   4.3366e+25   5.42e+12   7.53e+11   1.00e+06   3.69e+00s\n",
      "4000   4.5461e+25   5.13e+12   1.06e+12   1.00e+06   3.88e+00s\n",
      "4200   4.7498e+25   4.86e+12   1.09e+12   1.00e+06   4.07e+00s\n",
      "4400   4.9476e+25   4.61e+12   1.25e+12   1.00e+06   4.27e+00s\n",
      "4600   5.1395e+25   4.37e+12   2.20e+12   1.00e+06   4.46e+00s\n",
      "4800   5.3254e+25   4.15e+12   2.75e+12   1.00e+06   4.65e+00s\n",
      "5000   5.5055e+25   3.94e+12   1.62e+12   1.00e+06   4.84e+00s\n",
      "5200   5.6796e+25   3.74e+12   1.99e+12   1.00e+06   5.03e+00s\n",
      "5400   5.8480e+25   3.55e+12   2.92e+12   1.00e+06   5.23e+00s\n",
      "5600   6.0107e+25   3.37e+12   1.96e+12   1.00e+06   5.42e+00s\n",
      "5800   6.1678e+25   3.20e+12   3.59e+12   1.00e+06   5.61e+00s\n",
      "6000   6.3194e+25   3.04e+12   1.47e+12   1.00e+06   5.80e+00s\n",
      "6200   6.4656e+25   2.89e+12   1.75e+12   1.00e+06   5.99e+00s\n",
      "6400   6.6066e+25   2.75e+12   2.67e+12   1.00e+06   6.19e+00s\n",
      "6600   6.7425e+25   2.62e+12   1.26e+12   1.00e+06   6.38e+00s\n",
      "6800   6.8734e+25   2.49e+12   1.75e+12   1.00e+06   6.57e+00s\n",
      "7000   6.9995e+25   2.37e+12   2.94e+12   1.00e+06   6.76e+00s\n",
      "7200   7.1208e+25   2.25e+12   2.62e+12   1.00e+06   6.95e+00s\n",
      "7400   7.2376e+25   2.14e+12   1.61e+12   1.00e+06   7.15e+00s\n",
      "7600   7.3500e+25   2.04e+12   1.17e+12   1.00e+06   7.34e+00s\n",
      "7800   7.4581e+25   1.94e+12   2.23e+12   1.00e+06   7.53e+00s\n",
      "8000   7.5621e+25   1.85e+12   3.60e+12   1.00e+06   7.73e+00s\n",
      "8200   7.6621e+25   1.76e+12   2.84e+12   1.00e+06   7.92e+00s\n",
      "8400   7.7582e+25   1.68e+12   1.96e+12   1.00e+06   8.11e+00s\n",
      "8600   7.8506e+25   1.60e+12   1.71e+12   1.00e+06   8.30e+00s\n",
      "8800   7.9393e+25   1.53e+12   2.29e+12   1.00e+06   8.49e+00s\n",
      "9000   8.0246e+25   1.45e+12   1.26e+12   1.00e+06   8.69e+00s\n",
      "9200   8.1065e+25   1.39e+12   1.28e+12   1.00e+06   8.88e+00s\n",
      "9400   8.1852e+25   1.32e+12   1.40e+12   1.00e+06   9.07e+00s\n",
      "9600   8.2608e+25   1.26e+12   1.90e+12   1.00e+06   9.26e+00s\n",
      "9800   8.3334e+25   1.20e+12   2.25e+12   1.00e+06   9.46e+00s\n",
      "10000   8.4031e+25   1.14e+12   2.07e+12   1.00e+06   9.65e+00s\n",
      "\n",
      "status:               maximum iterations reached\n",
      "number of iterations: 10000\n",
      "run time:             9.65e+00s\n",
      "optimal rho estimate: 1.00e+06\n",
      "\n"
     ]
    },
    {
     "ename": "SolverError",
     "evalue": "Solver 'OSQP' failed. Try another solver, or solve with verbose=True for more information.",
     "output_type": "error",
     "traceback": [
      "\u001b[0;31m---------------------------------------------------------------------------\u001b[0m",
      "\u001b[0;31mSolverError\u001b[0m                               Traceback (most recent call last)",
      "\u001b[0;32m/tmp/ipykernel_149642/1279645131.py\u001b[0m in \u001b[0;36m<module>\u001b[0;34m\u001b[0m\n\u001b[1;32m     25\u001b[0m \u001b[0;34m\u001b[0m\u001b[0m\n\u001b[1;32m     26\u001b[0m \u001b[0;34m\u001b[0m\u001b[0m\n\u001b[0;32m---> 27\u001b[0;31m \u001b[0mopt_val\u001b[0m \u001b[0;34m=\u001b[0m \u001b[0mprob\u001b[0m\u001b[0;34m.\u001b[0m\u001b[0msolve\u001b[0m\u001b[0;34m(\u001b[0m\u001b[0mverbose\u001b[0m\u001b[0;34m=\u001b[0m\u001b[0;32mTrue\u001b[0m\u001b[0;34m)\u001b[0m\u001b[0;34m\u001b[0m\u001b[0;34m\u001b[0m\u001b[0m\n\u001b[0m\u001b[1;32m     28\u001b[0m \u001b[0mprint\u001b[0m\u001b[0;34m(\u001b[0m\u001b[0;34mf'time solving the problem {timeit.default_timer() - start_time}'\u001b[0m\u001b[0;34m)\u001b[0m\u001b[0;34m\u001b[0m\u001b[0;34m\u001b[0m\u001b[0m\n\u001b[1;32m     29\u001b[0m \u001b[0mb\u001b[0m\u001b[0;34m.\u001b[0m\u001b[0mvalue\u001b[0m\u001b[0;34m\u001b[0m\u001b[0;34m\u001b[0m\u001b[0m\n",
      "\u001b[0;32m~/dl/lib/python3.8/site-packages/cvxpy/problems/problem.py\u001b[0m in \u001b[0;36msolve\u001b[0;34m(self, *args, **kwargs)\u001b[0m\n\u001b[1;32m    479\u001b[0m         \u001b[0;32melse\u001b[0m\u001b[0;34m:\u001b[0m\u001b[0;34m\u001b[0m\u001b[0;34m\u001b[0m\u001b[0m\n\u001b[1;32m    480\u001b[0m             \u001b[0msolve_func\u001b[0m \u001b[0;34m=\u001b[0m \u001b[0mProblem\u001b[0m\u001b[0;34m.\u001b[0m\u001b[0m_solve\u001b[0m\u001b[0;34m\u001b[0m\u001b[0;34m\u001b[0m\u001b[0m\n\u001b[0;32m--> 481\u001b[0;31m         \u001b[0;32mreturn\u001b[0m \u001b[0msolve_func\u001b[0m\u001b[0;34m(\u001b[0m\u001b[0mself\u001b[0m\u001b[0;34m,\u001b[0m \u001b[0;34m*\u001b[0m\u001b[0margs\u001b[0m\u001b[0;34m,\u001b[0m \u001b[0;34m**\u001b[0m\u001b[0mkwargs\u001b[0m\u001b[0;34m)\u001b[0m\u001b[0;34m\u001b[0m\u001b[0;34m\u001b[0m\u001b[0m\n\u001b[0m\u001b[1;32m    482\u001b[0m \u001b[0;34m\u001b[0m\u001b[0m\n\u001b[1;32m    483\u001b[0m     \u001b[0;34m@\u001b[0m\u001b[0mclassmethod\u001b[0m\u001b[0;34m\u001b[0m\u001b[0;34m\u001b[0m\u001b[0m\n",
      "\u001b[0;32m~/dl/lib/python3.8/site-packages/cvxpy/problems/problem.py\u001b[0m in \u001b[0;36m_solve\u001b[0;34m(self, solver, warm_start, verbose, gp, qcp, requires_grad, enforce_dpp, ignore_dpp, **kwargs)\u001b[0m\n\u001b[1;32m   1018\u001b[0m         \u001b[0mend\u001b[0m \u001b[0;34m=\u001b[0m \u001b[0mtime\u001b[0m\u001b[0;34m.\u001b[0m\u001b[0mtime\u001b[0m\u001b[0;34m(\u001b[0m\u001b[0;34m)\u001b[0m\u001b[0;34m\u001b[0m\u001b[0;34m\u001b[0m\u001b[0m\n\u001b[1;32m   1019\u001b[0m         \u001b[0mself\u001b[0m\u001b[0;34m.\u001b[0m\u001b[0m_solve_time\u001b[0m \u001b[0;34m=\u001b[0m \u001b[0mend\u001b[0m \u001b[0;34m-\u001b[0m \u001b[0mstart\u001b[0m\u001b[0;34m\u001b[0m\u001b[0;34m\u001b[0m\u001b[0m\n\u001b[0;32m-> 1020\u001b[0;31m         \u001b[0mself\u001b[0m\u001b[0;34m.\u001b[0m\u001b[0munpack_results\u001b[0m\u001b[0;34m(\u001b[0m\u001b[0msolution\u001b[0m\u001b[0;34m,\u001b[0m \u001b[0msolving_chain\u001b[0m\u001b[0;34m,\u001b[0m \u001b[0minverse_data\u001b[0m\u001b[0;34m)\u001b[0m\u001b[0;34m\u001b[0m\u001b[0;34m\u001b[0m\u001b[0m\n\u001b[0m\u001b[1;32m   1021\u001b[0m         \u001b[0;32mif\u001b[0m \u001b[0mverbose\u001b[0m\u001b[0;34m:\u001b[0m\u001b[0;34m\u001b[0m\u001b[0;34m\u001b[0m\u001b[0m\n\u001b[1;32m   1022\u001b[0m             \u001b[0mprint\u001b[0m\u001b[0;34m(\u001b[0m\u001b[0m_FOOTER\u001b[0m\u001b[0;34m)\u001b[0m\u001b[0;34m\u001b[0m\u001b[0;34m\u001b[0m\u001b[0m\n",
      "\u001b[0;32m~/dl/lib/python3.8/site-packages/cvxpy/problems/problem.py\u001b[0m in \u001b[0;36munpack_results\u001b[0;34m(self, solution, chain, inverse_data)\u001b[0m\n\u001b[1;32m   1343\u001b[0m             \u001b[0mwarnings\u001b[0m\u001b[0;34m.\u001b[0m\u001b[0mwarn\u001b[0m\u001b[0;34m(\u001b[0m\u001b[0mINF_OR_UNB_MESSAGE\u001b[0m\u001b[0;34m)\u001b[0m\u001b[0;34m\u001b[0m\u001b[0;34m\u001b[0m\u001b[0m\n\u001b[1;32m   1344\u001b[0m         \u001b[0;32mif\u001b[0m \u001b[0msolution\u001b[0m\u001b[0;34m.\u001b[0m\u001b[0mstatus\u001b[0m \u001b[0;32min\u001b[0m \u001b[0ms\u001b[0m\u001b[0;34m.\u001b[0m\u001b[0mERROR\u001b[0m\u001b[0;34m:\u001b[0m\u001b[0;34m\u001b[0m\u001b[0;34m\u001b[0m\u001b[0m\n\u001b[0;32m-> 1345\u001b[0;31m             raise error.SolverError(\n\u001b[0m\u001b[1;32m   1346\u001b[0m                     \u001b[0;34m\"Solver '%s' failed. \"\u001b[0m \u001b[0;34m%\u001b[0m \u001b[0mchain\u001b[0m\u001b[0;34m.\u001b[0m\u001b[0msolver\u001b[0m\u001b[0;34m.\u001b[0m\u001b[0mname\u001b[0m\u001b[0;34m(\u001b[0m\u001b[0;34m)\u001b[0m \u001b[0;34m+\u001b[0m\u001b[0;34m\u001b[0m\u001b[0;34m\u001b[0m\u001b[0m\n\u001b[1;32m   1347\u001b[0m                     \u001b[0;34m\"Try another solver, or solve with verbose=True for more \"\u001b[0m\u001b[0;34m\u001b[0m\u001b[0;34m\u001b[0m\u001b[0m\n",
      "\u001b[0;31mSolverError\u001b[0m: Solver 'OSQP' failed. Try another solver, or solve with verbose=True for more information."
     ]
    }
   ],
   "source": [
    "start_time = timeit.default_timer()\n",
    "# code you want to evaluate\n",
    "timeit.default_timer() - start_time\n",
    "\n",
    "epsilon = 0.00000001\n",
    "n = train[0].shape[1]  # For now we are only using 3 features\n",
    "num_times = len(set(times_to_fill))-1\n",
    "b = cp.Variable(n)\n",
    "\n",
    "\n",
    "# We are having Conconcave problems here!!\n",
    "cost = [weights[k]*cp.sum_squares(cp.square(log_correction[k][j])*(log(H_i_j_wc[k][j]+epsilon) - log(Ho_t_[j]+epsilon) - b @ scaled_data[k]))\\\n",
    "        *(times_to_fill[j+1]-times_to_fill[j]) for k in range(num_pat) for j in range(num_times)] # \n",
    "#cost = [weights[k]*cp.norm((log(H_i_j_wc[k][j]+epsilon) - log(Ho_t_[j]+epsilon) - b @ scaled_data[k]),'inf') \\\n",
    "#                                            for k in range(num_pat) for j in range(num_times)]\n",
    "print(f'time creating the cost list {timeit.default_timer() - start_time}')\n",
    "\n",
    "start_time = timeit.default_timer()\n",
    "cost_sum = cp.sum(cost)\n",
    "\n",
    "print(f'time summing the cost list {timeit.default_timer() - start_time}')\n",
    "start_time = timeit.default_timer()\n",
    "\n",
    "prob = cp.Problem(cp.Minimize(cost_sum))\n",
    "\n",
    "\n",
    "opt_val = prob.solve(verbose=True, max_iter=100000)\n",
    "print(f'time solving the problem {timeit.default_timer() - start_time}')\n",
    "b.value"
   ]
  },
  {
   "cell_type": "code",
   "execution_count": 62,
   "id": "dbc30dda-f965-4460-99ce-d862cdca8c87",
   "metadata": {},
   "outputs": [
    {
     "data": {
      "image/png": "[encoded data removed]",
      "text/plain": [
       "<Figure size 1080x360 with 2 Axes>"
      ]
     },
     "metadata": {
      "needs_background": "light"
     },
     "output_type": "display_data"
    }
   ],
   "source": [
    "from survLime.utils.generic_utils import compare_survival_times\n",
    "\n",
    "compare_survival_times(model, b.value, train[0], train[1], test[0])"
   ]
  },
  {
   "cell_type": "code",
   "execution_count": null,
   "id": "7e4fda03-978a-4613-b858-e539ffac94a1",
   "metadata": {},
   "outputs": [],
   "source": []
  }
 ],
 "metadata": {
  "kernelspec": {
   "display_name": "Python 3 (ipykernel)",
   "language": "python",
   "name": "python3"
  },
  "language_info": {
   "codemirror_mode": {
    "name": "ipython",
    "version": 3
   },
   "file_extension": ".py",
   "mimetype": "text/x-python",
   "name": "python",
   "nbconvert_exporter": "python",
   "pygments_lexer": "ipython3",
   "version": "3.8.10"
  }
 },
 "nbformat": 4,
 "nbformat_minor": 5
}
