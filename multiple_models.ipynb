{
 "cells": [
  {
   "cell_type": "code",
   "execution_count": null,
   "metadata": {},
   "outputs": [],
   "source": [
    "%load_ext autoreload\n",
    "%autoreload 2\n",
    "import numpy as np\n",
    "from functools import partial\n",
    "from sksurv.linear_model import CoxPHSurvivalAnalysis\n",
    "from sksurv.ensemble import RandomSurvivalForest\n",
    "from survlime.survlime_explainer import SurvLimeExplainer\n",
    "from survlime.load_datasets import RandomSurvivalData\n",
    "from xgbse import XGBSEKaplanNeighbors\n",
    "import pandas as pd\n"
   ]
  },
  {
   "cell_type": "markdown",
   "metadata": {},
   "source": [
    "# Generate data"
   ]
  },
  {
   "cell_type": "code",
   "execution_count": null,
   "metadata": {},
   "outputs": [],
   "source": [
    "# Generate data\n",
    "n_points = 500\n",
    "true_coef = [1, 1]\n",
    "r = 1\n",
    "center = [0, 0]\n",
    "prob_event = 0.9\n",
    "lambda_weibull = 10**(-6)\n",
    "v_weibull = 2\n",
    "n_features = len(true_coef)\n",
    "\n",
    "rsd = RandomSurvivalData(\n",
    "    center=center,\n",
    "    radius=r,\n",
    "    coefficients=true_coef,\n",
    "    prob_event=prob_event,\n",
    "    lambda_weibull=lambda_weibull,\n",
    "    v_weibull=v_weibull,\n",
    "    time_cap=None,\n",
    "    random_seed=90,\n",
    ")\n",
    "\n",
    "# Train\n",
    "X, time_to_event, delta = rsd.random_survival_data(num_points=n_points)\n",
    "z = [(d, t) for d, t in zip(delta, time_to_event)]\n",
    "y = np.array(z, dtype=[(\"delta\", np.bool_), (\"time_to_event\", np.float32)])\n",
    "total_row_train = X.shape[0]\n",
    "print('total_row_train:', total_row_train)\n"
   ]
  },
  {
   "cell_type": "code",
   "execution_count": null,
   "metadata": {},
   "outputs": [],
   "source": [
    "# Point to explain\n",
    "x_new = np.array([0.1, 0.1])\n",
    "x_new_array = np.expand_dims(x_new, axis=0)"
   ]
  },
  {
   "cell_type": "markdown",
   "metadata": {},
   "source": [
    "# Cox"
   ]
  },
  {
   "cell_type": "code",
   "execution_count": null,
   "metadata": {},
   "outputs": [],
   "source": [
    "# Fit a Cox model\n",
    "model = CoxPHSurvivalAnalysis()\n",
    "model.fit(X, y)\n",
    "print(model.coef_)"
   ]
  },
  {
   "cell_type": "code",
   "execution_count": null,
   "metadata": {},
   "outputs": [],
   "source": [
    "output_array = model.predict_cumulative_hazard_function(x_new_array, return_array=True)\n",
    "output_array_2 = model.predict_cumulative_hazard_function(x_new_array)\n",
    "print(output_array_2[0](output_array_2[0].x[:5]))\n",
    "print(output_array[0][:5])"
   ]
  },
  {
   "cell_type": "code",
   "execution_count": null,
   "metadata": {},
   "outputs": [],
   "source": [
    "# SurvLime for COX\n",
    "explainer = SurvLimeExplainer(\n",
    "    training_data=X,\n",
    "    target_data=y,\n",
    "    model_output_times=model.event_times_,\n",
    "    sample_around_instance=True,\n",
    "    random_state=10,\n",
    ")\n",
    "\n",
    "b, result = explainer.explain_instance(\n",
    "    data_row=x_new,\n",
    "    predict_fn=partial(model.predict_cumulative_hazard_function, return_array=True),\n",
    "    num_samples=1000,\n",
    ")\n",
    "\n",
    "print('b:', b)"
   ]
  },
  {
   "cell_type": "code",
   "execution_count": null,
   "metadata": {},
   "outputs": [],
   "source": [
    "# SurvLime for COX\n",
    "explainer = SurvLimeExplainer(\n",
    "    training_data=X,\n",
    "    target_data=y,\n",
    "    model_output_times=model.event_times_,\n",
    "    sample_around_instance=True,\n",
    "    random_state=10,\n",
    ")\n",
    "\n",
    "b, result = explainer.explain_instance(\n",
    "    data_row=x_new,\n",
    "    predict_fn=model.predict_cumulative_hazard_function,\n",
    "    num_samples=1000,\n",
    ")\n",
    "\n",
    "print('b:', b)"
   ]
  },
  {
   "cell_type": "markdown",
   "metadata": {},
   "source": [
    "# Random forest"
   ]
  },
  {
   "cell_type": "code",
   "execution_count": null,
   "metadata": {},
   "outputs": [],
   "source": [
    "model = RandomSurvivalForest().fit(X, y)"
   ]
  },
  {
   "cell_type": "code",
   "execution_count": null,
   "metadata": {},
   "outputs": [],
   "source": [
    "# SurvLime for RSF\n",
    "explainer = SurvLimeExplainer(\n",
    "    training_data=X,\n",
    "    target_data=y,\n",
    "    model_output_times=model.event_times_,\n",
    "    sample_around_instance=True,\n",
    "    random_state=10,\n",
    ")\n",
    "\n",
    "b, result = explainer.explain_instance(\n",
    "    data_row=x_new,\n",
    "    predict_fn=partial(model.predict_cumulative_hazard_function, return_array=True),\n",
    "    num_samples=1000,\n",
    "    verbose=True,\n",
    ")\n",
    "\n",
    "print('b:', b)"
   ]
  },
  {
   "cell_type": "code",
   "execution_count": null,
   "metadata": {},
   "outputs": [],
   "source": [
    "explainer = SurvLimeExplainer(\n",
    "    training_data=X,\n",
    "    target_data=y,\n",
    "    model_output_times=model.event_times_,\n",
    "    sample_around_instance=True,\n",
    "    random_state=10,\n",
    ")\n",
    "\n",
    "b, result = explainer.explain_instance(\n",
    "    data_row=x_new,\n",
    "    predict_fn=model.predict_cumulative_hazard_function,\n",
    "    num_samples=1000,\n",
    ")\n",
    "\n",
    "print('b:', b)"
   ]
  },
  {
   "cell_type": "markdown",
   "metadata": {},
   "source": [
    "# xgboostse\n",
    "https://loft-br.github.io/xgboost-survival-embeddings/how_xgbse_works.html"
   ]
  },
  {
   "cell_type": "code",
   "execution_count": null,
   "metadata": {},
   "outputs": [],
   "source": [
    "X_df = pd.DataFrame(X, columns = ['A', 'B'])"
   ]
  },
  {
   "cell_type": "code",
   "execution_count": null,
   "metadata": {},
   "outputs": [],
   "source": [
    "xgbse_model = XGBSEKaplanNeighbors(n_neighbors=50)\n",
    "xgbse_model.fit(X_df, y)"
   ]
  },
  {
   "cell_type": "code",
   "execution_count": null,
   "metadata": {},
   "outputs": [],
   "source": [
    "x_new_array_df = pd.DataFrame(x_new_array, columns = ['A', 'B'])"
   ]
  },
  {
   "cell_type": "code",
   "execution_count": null,
   "metadata": {},
   "outputs": [],
   "source": [
    "explainer = SurvLimeExplainer(\n",
    "    training_data=X_df,\n",
    "    target_data=y,\n",
    "    model_output_times=xgbse_model.time_bins,\n",
    "    sample_around_instance=True,\n",
    "    random_state=10,\n",
    ")\n",
    "\n",
    "b, result = explainer.explain_instance(\n",
    "    data_row=x_new_array_df,\n",
    "    predict_fn=xgbse_model.predict,\n",
    "    num_samples=1000,\n",
    ")\n",
    "\n",
    "print('b:', b)"
   ]
  },
  {
   "cell_type": "code",
   "execution_count": null,
   "metadata": {},
   "outputs": [],
   "source": []
  }
 ],
 "metadata": {
  "kernelspec": {
   "display_name": "Python 3.9.7 ('.venv_survLIME': venv)",
   "language": "python",
   "name": "python3"
  },
  "language_info": {
   "codemirror_mode": {
    "name": "ipython",
    "version": 3
   },
   "file_extension": ".py",
   "mimetype": "text/x-python",
   "name": "python",
   "nbconvert_exporter": "python",
   "pygments_lexer": "ipython3",
   "version": "3.9.7"
  },
  "orig_nbformat": 4,
  "vscode": {
   "interpreter": {
    "hash": "5125f1d6569b6fddfcceea96a1a5016994ac21200cfc124cf085e7070af32878"
   }
  }
 },
 "nbformat": 4,
 "nbformat_minor": 2
}
